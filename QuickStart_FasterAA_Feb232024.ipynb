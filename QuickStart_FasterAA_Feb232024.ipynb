{
  "cells": [
    {
      "cell_type": "markdown",
      "metadata": {
        "id": "view-in-github",
        "colab_type": "text"
      },
      "source": [
        "<a href=\"https://colab.research.google.com/github/saigontrade88/AML-XAI-Project/blob/master/QuickStart_FasterAA_Feb232024.ipynb\" target=\"_parent\"><img src=\"https://colab.research.google.com/assets/colab-badge.svg\" alt=\"Open In Colab\"/></a>"
      ]
    },
    {
      "cell_type": "markdown",
      "metadata": {
        "id": "k69H4axmkIFh"
      },
      "source": [
        "<h2>Quick Start: Creating Sample-wise Unlearnable Examples</h2>"
      ]
    },
    {
      "cell_type": "markdown",
      "metadata": {
        "id": "Tby2pehdkIFi"
      },
      "source": [
        "<h3>Prepare Data</h3>"
      ]
    },
    {
      "cell_type": "code",
      "execution_count": 1,
      "metadata": {
        "id": "xnQmli3YkIFi"
      },
      "outputs": [],
      "source": [
        "import torch\n",
        "import torchvision\n",
        "from torch.utils.data import DataLoader\n",
        "from torchvision import datasets, transforms\n",
        "\n",
        "# Prepare Dataset\n",
        "train_transform = [\n",
        "    transforms.ToTensor()\n",
        "]\n",
        "test_transform = [\n",
        "    transforms.ToTensor()\n",
        "]\n",
        "train_transform = transforms.Compose(train_transform)\n",
        "test_transform = transforms.Compose(test_transform)"
      ]
    },
    {
      "cell_type": "code",
      "source": [
        "import albumentations as A\n",
        "from albumentations.pytorch import ToTensorV2"
      ],
      "metadata": {
        "id": "4kux7nq4_pUL"
      },
      "execution_count": 2,
      "outputs": []
    },
    {
      "cell_type": "code",
      "source": [
        "import os\n",
        "import copy\n",
        "import matplotlib.pyplot as plt\n",
        "import json"
      ],
      "metadata": {
        "id": "EV3hS_-S_3IA"
      },
      "execution_count": 3,
      "outputs": []
    },
    {
      "cell_type": "markdown",
      "metadata": {
        "id": "GbV0Hiw4kIFl"
      },
      "source": [
        "# Visualize Images"
      ]
    },
    {
      "cell_type": "code",
      "execution_count": 4,
      "metadata": {
        "id": "ElxREA5vkIFl"
      },
      "outputs": [],
      "source": [
        "import random\n",
        "import matplotlib.pyplot as plt\n",
        "import matplotlib\n",
        "%matplotlib inline\n",
        "\n",
        "def get_pairs_of_imgs(idx, clean_train_dataset, unlearnable_dataset):\n",
        "    clean_img = clean_train_dataset.data[idx]\n",
        "    unlearnable_img = unlearnable_dataset.data[idx]\n",
        "    clean_img = torchvision.transforms.functional.to_tensor(clean_img)\n",
        "    unlearnable_img = torchvision.transforms.functional.to_tensor(unlearnable_img)\n",
        "\n",
        "    # x = noise[idx]\n",
        "    # x_min = torch.min(x)\n",
        "    # x_max = torch.max(x)\n",
        "    # noise_norm = (x - x_min) / (x_max - x_min)\n",
        "    # noise_norm = torch.clamp(noise_norm, 0, 1)\n",
        "    return [clean_img, unlearnable_img]"
      ]
    },
    {
      "cell_type": "code",
      "source": [
        "def imshow(img):\n",
        "  # img = (img * 0.5) + 0.5     # denormalize, [-1, 1] to [0, 1]\n",
        "  if torch.is_tensor(img):\n",
        "    npimg = img.numpy()\n",
        "  else:\n",
        "    npimg = img.astype(np.unit8)\n",
        "\n",
        "  # if min_pixel == 0 and self.max_pixel == 1:\n",
        "  #   img = np.clip(img * 255 + 0.5, 0, 255).astype(np.uint8)\n",
        "\n",
        "  #       if self.min_pixel == -1 and self.max_pixel == 1:\n",
        "  #           img = (img + 1) / 2 #[-1, 1] -> [0, 1]\n",
        "  #           img = np.clip(img * 255 + 0.5, 0, 255).astype(np.uint8)\n",
        "\n",
        "  if npimg.shape[0] == 3:\n",
        "    plt.imshow(np.transpose(npimg, (1, 2, 0)))\n",
        "  else:\n",
        "    plt.imshow(npimg)\n",
        "  plt.show()"
      ],
      "metadata": {
        "id": "RXSv-RiezsO_"
      },
      "execution_count": null,
      "outputs": []
    },
    {
      "cell_type": "code",
      "source": [
        "classes = ('plane', 'car', 'bird', 'cat',\n",
        "           'deer', 'dog', 'frog', 'horse', 'ship', 'truck')"
      ],
      "metadata": {
        "id": "6BdckhoafVJt"
      },
      "execution_count": null,
      "outputs": []
    },
    {
      "cell_type": "markdown",
      "metadata": {
        "id": "48uzkfkPkIFk"
      },
      "source": [
        "# Load Datasets"
      ]
    },
    {
      "cell_type": "markdown",
      "source": [
        "## Torch.Compose"
      ],
      "metadata": {
        "id": "5drPl2lvjfVR"
      }
    },
    {
      "cell_type": "code",
      "execution_count": null,
      "metadata": {
        "id": "ZLWF6iXCkIFk"
      },
      "outputs": [],
      "source": [
        "import numpy as np\n",
        "\n",
        "# Add standard augmentation\n",
        "train_transform = [\n",
        "    transforms.ToTensor()\n",
        "]\n",
        "train_transform = transforms.Compose(train_transform)\n"
      ]
    },
    {
      "cell_type": "markdown",
      "source": [
        "# Explore your clean data"
      ],
      "metadata": {
        "id": "BCMoU09y8U-M"
      }
    },
    {
      "cell_type": "markdown",
      "source": [
        "### x_train_orig_raw"
      ],
      "metadata": {
        "id": "zhVfCQ2vCxzp"
      }
    },
    {
      "cell_type": "code",
      "source": [
        "x_train = np.load(f'/content/x_train_orig.npy', allow_pickle=True)"
      ],
      "metadata": {
        "id": "bt2vijo6vBYg"
      },
      "execution_count": null,
      "outputs": []
    },
    {
      "cell_type": "code",
      "source": [
        "x_train.shape"
      ],
      "metadata": {
        "colab": {
          "base_uri": "https://localhost:8080/"
        },
        "id": "O4uLzUkr2mOb",
        "outputId": "b3aae418-76e0-4758-c949-fd83b17d6ebc"
      },
      "execution_count": null,
      "outputs": [
        {
          "output_type": "execute_result",
          "data": {
            "text/plain": [
              "(448, 32, 32, 3)"
            ]
          },
          "metadata": {},
          "execution_count": 9
        }
      ]
    },
    {
      "cell_type": "code",
      "source": [
        "len(x_train)"
      ],
      "metadata": {
        "colab": {
          "base_uri": "https://localhost:8080/"
        },
        "id": "bT74hKKizTL-",
        "outputId": "9c9de8ac-95ee-4906-d1ef-94ebf4091fd9"
      },
      "execution_count": null,
      "outputs": [
        {
          "output_type": "execute_result",
          "data": {
            "text/plain": [
              "448"
            ]
          },
          "metadata": {},
          "execution_count": 10
        }
      ]
    },
    {
      "cell_type": "code",
      "source": [
        "x_train[0].shape"
      ],
      "metadata": {
        "colab": {
          "base_uri": "https://localhost:8080/"
        },
        "id": "GM-3dUszQVmN",
        "outputId": "ee4c2b46-939d-4259-ec25-8e74cfe639c6"
      },
      "execution_count": null,
      "outputs": [
        {
          "output_type": "execute_result",
          "data": {
            "text/plain": [
              "(32, 32, 3)"
            ]
          },
          "metadata": {},
          "execution_count": 11
        }
      ]
    },
    {
      "cell_type": "code",
      "source": [
        "type(x_train[0])"
      ],
      "metadata": {
        "colab": {
          "base_uri": "https://localhost:8080/"
        },
        "id": "2LFS3BpqRGQH",
        "outputId": "7ec77d71-9962-43ec-faa8-92c448a221c7"
      },
      "execution_count": null,
      "outputs": [
        {
          "output_type": "execute_result",
          "data": {
            "text/plain": [
              "numpy.ndarray"
            ]
          },
          "metadata": {},
          "execution_count": 12
        }
      ]
    },
    {
      "cell_type": "code",
      "source": [
        "x_train[30].shape"
      ],
      "metadata": {
        "colab": {
          "base_uri": "https://localhost:8080/"
        },
        "id": "mHylIqPxzVhB",
        "outputId": "9bee2602-c52e-4cff-bb79-21d09e259090"
      },
      "execution_count": null,
      "outputs": [
        {
          "output_type": "execute_result",
          "data": {
            "text/plain": [
              "(32, 32, 3)"
            ]
          },
          "metadata": {},
          "execution_count": 13
        }
      ]
    },
    {
      "cell_type": "code",
      "source": [
        "x_train[0].min()"
      ],
      "metadata": {
        "colab": {
          "base_uri": "https://localhost:8080/"
        },
        "id": "h8zi3LKQRGbO",
        "outputId": "786b8b7e-ec0d-4186-dbb4-c3e5271819f4"
      },
      "execution_count": null,
      "outputs": [
        {
          "output_type": "execute_result",
          "data": {
            "text/plain": [
              "0.16470587"
            ]
          },
          "metadata": {},
          "execution_count": 14
        }
      ]
    },
    {
      "cell_type": "code",
      "source": [
        "x_train[0].max()"
      ],
      "metadata": {
        "colab": {
          "base_uri": "https://localhost:8080/"
        },
        "id": "t01MePkXRM17",
        "outputId": "e9110567-ea33-44a1-8093-4fac4a726254"
      },
      "execution_count": null,
      "outputs": [
        {
          "output_type": "execute_result",
          "data": {
            "text/plain": [
              "1.0"
            ]
          },
          "metadata": {},
          "execution_count": 15
        }
      ]
    },
    {
      "cell_type": "code",
      "source": [
        "y_train = np.load(f'/content/y_train_orig.npy', allow_pickle=True)"
      ],
      "metadata": {
        "id": "dWQgU6I6lvhS"
      },
      "execution_count": null,
      "outputs": []
    },
    {
      "cell_type": "code",
      "source": [
        "len(y_train)"
      ],
      "metadata": {
        "colab": {
          "base_uri": "https://localhost:8080/"
        },
        "id": "WGfzTRnCwXzH",
        "outputId": "53e96655-98fe-4517-ce80-f5311b4f3a16"
      },
      "execution_count": null,
      "outputs": [
        {
          "output_type": "execute_result",
          "data": {
            "text/plain": [
              "448"
            ]
          },
          "metadata": {},
          "execution_count": 17
        }
      ]
    },
    {
      "cell_type": "code",
      "source": [
        "y_train[0], type(y_train[0])"
      ],
      "metadata": {
        "colab": {
          "base_uri": "https://localhost:8080/"
        },
        "id": "yAH9fd7NU2qP",
        "outputId": "e067d259-5d53-4e17-e35d-63868cff0224"
      },
      "execution_count": null,
      "outputs": [
        {
          "output_type": "execute_result",
          "data": {
            "text/plain": [
              "(7, numpy.int64)"
            ]
          },
          "metadata": {},
          "execution_count": 18
        }
      ]
    },
    {
      "cell_type": "code",
      "source": [
        "y_train[6]"
      ],
      "metadata": {
        "colab": {
          "base_uri": "https://localhost:8080/"
        },
        "id": "hvs5rIQfU6iG",
        "outputId": "23a5d7a7-b366-412b-e506-59d67c38760b"
      },
      "execution_count": null,
      "outputs": [
        {
          "output_type": "execute_result",
          "data": {
            "text/plain": [
              "6"
            ]
          },
          "metadata": {},
          "execution_count": 19
        }
      ]
    },
    {
      "cell_type": "code",
      "source": [
        "print(f'{classes[y_train[2]]}')\n",
        "imshow(x_train[2])"
      ],
      "metadata": {
        "colab": {
          "base_uri": "https://localhost:8080/",
          "height": 448
        },
        "id": "i7DAe0uTVXbx",
        "outputId": "d59714b1-234f-49c8-c71f-afc111f68ef8"
      },
      "execution_count": null,
      "outputs": [
        {
          "output_type": "stream",
          "name": "stdout",
          "text": [
            "dog\n"
          ]
        },
        {
          "output_type": "display_data",
          "data": {
            "text/plain": [
              "<Figure size 640x480 with 1 Axes>"
            ],
            "image/png": "[encoded data removed]"
          },
          "metadata": {}
        }
      ]
    },
    {
      "cell_type": "markdown",
      "source": [
        "### x_aug_raw"
      ],
      "metadata": {
        "id": "FGo2ruUxGZKp"
      }
    },
    {
      "cell_type": "code",
      "source": [
        "x_aug = np.load(f'/content/x_train_aug.npy', allow_pickle=True)"
      ],
      "metadata": {
        "id": "8BK952s_0viw"
      },
      "execution_count": null,
      "outputs": []
    },
    {
      "cell_type": "code",
      "source": [
        "#num_elements\n",
        "len(x_aug)"
      ],
      "metadata": {
        "colab": {
          "base_uri": "https://localhost:8080/"
        },
        "id": "cgxxdB081BJt",
        "outputId": "4145ea25-05de-40fc-f73b-30cbe5a9c593"
      },
      "execution_count": null,
      "outputs": [
        {
          "output_type": "execute_result",
          "data": {
            "text/plain": [
              "448"
            ]
          },
          "metadata": {},
          "execution_count": 22
        }
      ]
    },
    {
      "cell_type": "code",
      "source": [
        "#first batch\n",
        "x_aug[0].shape"
      ],
      "metadata": {
        "colab": {
          "base_uri": "https://localhost:8080/"
        },
        "id": "_BJaogRW1ETn",
        "outputId": "d0470aad-e4d6-4a14-8d5c-cb86ea5b9452"
      },
      "execution_count": null,
      "outputs": [
        {
          "output_type": "execute_result",
          "data": {
            "text/plain": [
              "(32, 32, 3)"
            ]
          },
          "metadata": {},
          "execution_count": 23
        }
      ]
    },
    {
      "cell_type": "code",
      "source": [
        "#last batch\n",
        "x_aug[0].shape"
      ],
      "metadata": {
        "colab": {
          "base_uri": "https://localhost:8080/"
        },
        "id": "AgaFKkDx1Mic",
        "outputId": "12c45f2c-01c7-43f2-cf67-4c8efb180f69"
      },
      "execution_count": null,
      "outputs": [
        {
          "output_type": "execute_result",
          "data": {
            "text/plain": [
              "(32, 32, 3)"
            ]
          },
          "metadata": {},
          "execution_count": 24
        }
      ]
    },
    {
      "cell_type": "code",
      "source": [
        "x_aug[0].min()"
      ],
      "metadata": {
        "colab": {
          "base_uri": "https://localhost:8080/"
        },
        "id": "asd1B7VybKFI",
        "outputId": "7407003a-7da8-44eb-c27c-0469607c7bc2"
      },
      "execution_count": null,
      "outputs": [
        {
          "output_type": "execute_result",
          "data": {
            "text/plain": [
              "0.12870371"
            ]
          },
          "metadata": {},
          "execution_count": 25
        }
      ]
    },
    {
      "cell_type": "code",
      "source": [
        "x_aug[0].max()"
      ],
      "metadata": {
        "colab": {
          "base_uri": "https://localhost:8080/"
        },
        "id": "oia9exw5bNd0",
        "outputId": "1a775d7e-d8ac-4e5a-98c3-2241dc7b4f45"
      },
      "execution_count": null,
      "outputs": [
        {
          "output_type": "execute_result",
          "data": {
            "text/plain": [
              "0.96953213"
            ]
          },
          "metadata": {},
          "execution_count": 26
        }
      ]
    },
    {
      "cell_type": "code",
      "source": [
        "y_train_aug = np.load(f'/content/y_train_aug.npy')"
      ],
      "metadata": {
        "id": "k1bHF8ndfI1F"
      },
      "execution_count": null,
      "outputs": []
    },
    {
      "cell_type": "code",
      "source": [
        "y_train_pred = np.load(f'/content/y_train_pred.npy')"
      ],
      "metadata": {
        "id": "MG31uRUBbfox"
      },
      "execution_count": null,
      "outputs": []
    },
    {
      "cell_type": "code",
      "source": [
        "print(f'{classes[y_train_aug[2]]}') , print(f'{classes[y_train_pred[2]]}')\n",
        "imshow(x_aug[2])"
      ],
      "metadata": {
        "colab": {
          "base_uri": "https://localhost:8080/",
          "height": 466
        },
        "id": "KLwo3oRM1L9p",
        "outputId": "a8f139bc-35ef-49a1-d649-2831e3c04d1f"
      },
      "execution_count": null,
      "outputs": [
        {
          "output_type": "stream",
          "name": "stdout",
          "text": [
            "dog\n",
            "dog\n"
          ]
        },
        {
          "output_type": "display_data",
          "data": {
            "text/plain": [
              "<Figure size 640x480 with 1 Axes>"
            ],
            "image/png": "[encoded data removed]"
          },
          "metadata": {}
        }
      ]
    },
    {
      "cell_type": "code",
      "source": [
        "classes[y_train[2]], classes[y_train_aug[2]], classes[y_train_pred[2]]"
      ],
      "metadata": {
        "colab": {
          "base_uri": "https://localhost:8080/"
        },
        "id": "iDGVb43ofXy9",
        "outputId": "22823408-b83f-4f48-d7f9-70be6a161e58"
      },
      "execution_count": null,
      "outputs": [
        {
          "output_type": "execute_result",
          "data": {
            "text/plain": [
              "('dog', 'dog', 'dog')"
            ]
          },
          "metadata": {},
          "execution_count": 30
        }
      ]
    },
    {
      "cell_type": "markdown",
      "source": [
        "# Data pipeline that uses torchvision"
      ],
      "metadata": {
        "id": "l_eePn_5ABMB"
      }
    },
    {
      "cell_type": "code",
      "source": [
        "from torch.utils.data import Dataset\n",
        "from PIL import Image\n",
        "class Cifar10UnlearnableDataset(Dataset):\n",
        "    \"\"\"\n",
        "    a subclass of torch.utils.data.Dataset\n",
        "    Thus, it is required to implement two methods: __len__ and __getitem__.\n",
        "    \"\"\"\n",
        "    def __init__(self, data_X, data_y, min_pixel, max_pixel, transform=None):\n",
        "        '''\n",
        "        data_X: numpy array, shape (40000, 32, 32, 3).\n",
        "        data_Y: numpy array, shape (40000, 10)\n",
        "\n",
        "        '''\n",
        "        self.data = data_X\n",
        "        self.targets = data_y # Return a Python list with a single element\n",
        "\n",
        "        self.transforms = transform\n",
        "\n",
        "        self.min_pixel = min_pixel\n",
        "        self.max_pixel = max_pixel\n",
        "\n",
        "    def __getitem__(self, index):\n",
        "        \"\"\"\n",
        "        train_transform = torchvision.transforms([ToTensor(),])\n",
        "        myDataset = Cifar10NTGADataset(data_X, data_y, train_transform)\n",
        "        img, label = cifar10[99]\n",
        "        \"\"\"\n",
        "\n",
        "        img, target = self.data[index], self.targets[index]\n",
        "\n",
        "        if img.shape[0] == 3:\n",
        "            img = np.transpose(img, (1, 2, 0)) #(height, width, channel)\n",
        "\n",
        "        # Check the data type of the array\n",
        "        # Add 0.5 after unnormalizing to [0, 255] to round to nearest integer\n",
        "        if self.min_pixel == 0 and self.max_pixel == 1:\n",
        "            img = np.clip(img * 255 + 0.5, 0, 255).astype(np.uint8)\n",
        "\n",
        "        if self.min_pixel == -1 and self.max_pixel == 1:\n",
        "            img = (img + 1) / 2 #[-1, 1] -> [0, 1]\n",
        "            img = np.clip(img * 255 + 0.5, 0, 255).astype(np.uint8)\n",
        "\n",
        "        # doing this so that it is consistent with all other datasets\n",
        "        # to return a PIL Image\n",
        "        img = Image.fromarray(img)\n",
        "\n",
        "        if self.transforms:\n",
        "        # Use torchvision.transforms module to convert the PIL image to a PyTorch tensor\n",
        "            img = self.transforms(img)\n",
        "\n",
        "        # return a Pytorch tensor and its corresponding label and the pixel values range from 0.0 to 1.0.\n",
        "        return img, target"
      ],
      "metadata": {
        "id": "kYVse2a2lFIz"
      },
      "execution_count": null,
      "outputs": []
    },
    {
      "cell_type": "code",
      "source": [
        "unlearnable_train_dataset = Cifar10UnlearnableDataset(x_train,\n",
        "                                                y_train,\n",
        "                                                0, 1,\n",
        "                            transform=train_transform)"
      ],
      "metadata": {
        "id": "U1uuDEbYgvW7"
      },
      "execution_count": null,
      "outputs": []
    },
    {
      "cell_type": "code",
      "source": [
        "temp, temp_label = unlearnable_train_dataset[2]"
      ],
      "metadata": {
        "id": "KxVmUa7zg_X4"
      },
      "execution_count": null,
      "outputs": []
    },
    {
      "cell_type": "code",
      "source": [
        "imshow(temp)"
      ],
      "metadata": {
        "colab": {
          "base_uri": "https://localhost:8080/",
          "height": 430
        },
        "id": "bWJLPW0LiHyn",
        "outputId": "926d9270-a779-4e5a-b496-077b6010a653"
      },
      "execution_count": null,
      "outputs": [
        {
          "output_type": "display_data",
          "data": {
            "text/plain": [
              "<Figure size 640x480 with 1 Axes>"
            ],
            "image/png": "[encoded data removed]"
          },
          "metadata": {}
        }
      ]
    },
    {
      "cell_type": "code",
      "source": [
        "aug_train_dataset = Cifar10UnlearnableDataset(x_aug,\n",
        "                                                y_train_aug,\n",
        "                                                0, 1,\n",
        "                            transform=train_transform)"
      ],
      "metadata": {
        "id": "IOsw-eP9ktVg"
      },
      "execution_count": null,
      "outputs": []
    },
    {
      "cell_type": "code",
      "source": [
        "temp, temp_label = aug_train_dataset[2]"
      ],
      "metadata": {
        "id": "OZUqFiacduqp"
      },
      "execution_count": null,
      "outputs": []
    },
    {
      "cell_type": "code",
      "source": [
        "imshow(temp)"
      ],
      "metadata": {
        "colab": {
          "base_uri": "https://localhost:8080/",
          "height": 430
        },
        "id": "0GsR3fE-dxpf",
        "outputId": "a9ca8e96-6be0-4c97-83e7-60a1cf9f832f"
      },
      "execution_count": null,
      "outputs": [
        {
          "output_type": "display_data",
          "data": {
            "text/plain": [
              "<Figure size 640x480 with 1 Axes>"
            ],
            "image/png": "[encoded data removed]"
          },
          "metadata": {}
        }
      ]
    },
    {
      "cell_type": "code",
      "source": [
        "selected_idx = [random.randint(0, 400) for _ in range(3)]\n",
        "img_grid = []\n",
        "for idx in selected_idx:\n",
        "    img_grid += get_pairs_of_imgs(idx, unlearnable_train_dataset, aug_train_dataset)\n",
        "\n",
        "\n",
        "imshow(torchvision.utils.make_grid(torch.stack(img_grid), nrow=2, pad_value=255))"
      ],
      "metadata": {
        "id": "-NfOoWd6qxXC",
        "outputId": "d0f7cf95-04f1-4b38-922f-c58a080605d3",
        "colab": {
          "base_uri": "https://localhost:8080/",
          "height": 472
        }
      },
      "execution_count": null,
      "outputs": [
        {
          "output_type": "stream",
          "name": "stderr",
          "text": [
            "WARNING:matplotlib.image:Clipping input data to the valid range for imshow with RGB data ([0..1] for floats or [0..255] for integers).\n"
          ]
        },
        {
          "output_type": "display_data",
          "data": {
            "text/plain": [
              "<Figure size 640x480 with 1 Axes>"
            ],
            "image/png": "[encoded data removed]"
          },
          "metadata": {}
        }
      ]
    },
    {
      "cell_type": "markdown",
      "source": [
        "# Data pipeline that uses Albumentations"
      ],
      "metadata": {
        "id": "qxRLRh4cBOcH"
      }
    },
    {
      "cell_type": "code",
      "source": [
        "class Cifar10UnlearnableDataset(torch.utils.data.Dataset):\n",
        "\n",
        "    def __init__(self, root='/work_bgfs/l/longdang/alldatasets/min-min-noise/cifar10',\n",
        "        x_train_file='emin_perturbed_x',\n",
        "        y_train_file='y_train_cifar10', train_size=4000, transform=None):\n",
        "\n",
        "        self.transform = transform\n",
        "        # Implement additional initialization logic if needed\n",
        "        dataX = np.load(f'{root}/{x_train_file}.npy')\n",
        "        dataY = np.load(f'{root}/{y_train_file}.npy')\n",
        "\n",
        "        # indices = torch.randperm(len(dataX))[:train_size]\n",
        "        # x_train = [dataX[i] for i in indices]\n",
        "        # y_train = [dataY[i] for i in indices]\n",
        "        self.data = dataX\n",
        "        self.targets = dataY # Return a Python list\n",
        "\n",
        "\n",
        "    def __len__(self):\n",
        "        # Replace `...` with the actual implementation\n",
        "        return len(self.data)\n",
        "\n",
        "    def __getitem__(self, index):\n",
        "        # Implement logic to get an image and its label using the received index.\n",
        "        #\n",
        "        # `image` should be a NumPy array with the shape [height, width, num_channels].\n",
        "        # If an image contains three color channels, it should use an RGB color scheme.\n",
        "        #\n",
        "        # `label` should be an integer in the range [0, model.num_classes - 1] where `model.num_classes`\n",
        "        # is a value set in the `search.yaml` file.\n",
        "\n",
        "\n",
        "        image = self.data[index]\n",
        "        label = self.targets[index]\n",
        "\n",
        "        if image.shape[0] == 3:\n",
        "            image = np.transpose(image, (1, 2, 0))\n",
        "\n",
        "        if self.transform is not None:\n",
        "            transformed = self.transform(image=image)\n",
        "            image = transformed[\"image\"]\n",
        "\n",
        "        return image, label"
      ],
      "metadata": {
        "id": "lIiAT_1lB8Ya"
      },
      "execution_count": null,
      "outputs": []
    },
    {
      "cell_type": "markdown",
      "source": [
        "## albumentations_transform"
      ],
      "metadata": {
        "id": "s76BCzhNnHnK"
      }
    },
    {
      "cell_type": "code",
      "source": [
        "albumentations_transform = A.Compose([\n",
        "    ToTensorV2()\n",
        "])"
      ],
      "metadata": {
        "id": "WJQLfpg-Cedm"
      },
      "execution_count": null,
      "outputs": []
    },
    {
      "cell_type": "code",
      "source": [
        "unlearnable_train_dataset = Cifar10UnlearnableDataset('/content/',\n",
        "                                                      'x_train_orig',\n",
        "                                                      'y_train_orig',\n",
        "                                                      train_size=1000,\n",
        "                            transform=albumentations_transform)"
      ],
      "metadata": {
        "id": "cDoeKC3FCIcn"
      },
      "execution_count": null,
      "outputs": []
    },
    {
      "cell_type": "code",
      "source": [
        "unlearnable_aug_dataset = Cifar10UnlearnableDataset('/content/',\n",
        "                                                      'x_train_aug',\n",
        "                                                      'y_train_aug',\n",
        "                                                      train_size=1000,\n",
        "                            transform=albumentations_transform)"
      ],
      "metadata": {
        "id": "LKzmRg0ie60q"
      },
      "execution_count": null,
      "outputs": []
    },
    {
      "cell_type": "code",
      "source": [
        "temp, temp_label = unlearnable_train_dataset[2]"
      ],
      "metadata": {
        "id": "dVmbxWCifri-"
      },
      "execution_count": null,
      "outputs": []
    },
    {
      "cell_type": "code",
      "source": [
        "imshow(temp)"
      ],
      "metadata": {
        "id": "9725Uzokf-3c",
        "outputId": "0a8498ad-b864-429a-8c6f-f91030d0bade",
        "colab": {
          "base_uri": "https://localhost:8080/",
          "height": 430
        }
      },
      "execution_count": null,
      "outputs": [
        {
          "output_type": "display_data",
          "data": {
            "text/plain": [
              "<Figure size 640x480 with 1 Axes>"
            ],
            "image/png": "[encoded data removed]"
          },
          "metadata": {}
        }
      ]
    },
    {
      "cell_type": "code",
      "source": [
        "temp, temp_label = unlearnable_aug_dataset[2]"
      ],
      "metadata": {
        "id": "ODMYq1juiQL4"
      },
      "execution_count": null,
      "outputs": []
    },
    {
      "cell_type": "code",
      "source": [
        "imshow(temp)"
      ],
      "metadata": {
        "colab": {
          "base_uri": "https://localhost:8080/",
          "height": 430
        },
        "id": "lsa04dRJiTd4",
        "outputId": "f67e4c13-61ac-4209-99c4-fc6f999a7578"
      },
      "execution_count": null,
      "outputs": [
        {
          "output_type": "display_data",
          "data": {
            "text/plain": [
              "<Figure size 640x480 with 1 Axes>"
            ],
            "image/png": "[encoded data removed]"
          },
          "metadata": {}
        }
      ]
    },
    {
      "cell_type": "code",
      "source": [
        "selected_idx = [random.randint(0, 400) for _ in range(3)]\n",
        "img_grid = []\n",
        "for idx in selected_idx:\n",
        "  img_grid += get_pairs_of_imgs(idx, unlearnable_train_dataset, unlearnable_aug_dataset)\n",
        "\n",
        "\n",
        "imshow(torchvision.utils.make_grid(torch.stack(img_grid), nrow=2, pad_value=255))"
      ],
      "metadata": {
        "colab": {
          "base_uri": "https://localhost:8080/",
          "height": 472
        },
        "id": "eE1i_SUIEtnU",
        "outputId": "6a6f6e7a-9911-4dba-c873-2454c7c8889b"
      },
      "execution_count": null,
      "outputs": [
        {
          "output_type": "stream",
          "name": "stderr",
          "text": [
            "WARNING:matplotlib.image:Clipping input data to the valid range for imshow with RGB data ([0..1] for floats or [0..255] for integers).\n"
          ]
        },
        {
          "output_type": "display_data",
          "data": {
            "text/plain": [
              "<Figure size 640x480 with 1 Axes>"
            ],
            "image/png": "[encoded data removed]"
          },
          "metadata": {}
        }
      ]
    },
    {
      "cell_type": "code",
      "source": [
        "unlearnable_train_loader = torch.utils.data.DataLoader(unlearnable_train_dataset, batch_size=128,\n",
        "                                          shuffle=True, num_workers=2)"
      ],
      "metadata": {
        "id": "A1CzJ2tAfTWe"
      },
      "execution_count": null,
      "outputs": []
    },
    {
      "cell_type": "code",
      "source": [
        "unlearnable_aug_loader = torch.utils.data.DataLoader(unlearnable_aug_dataset, batch_size=128,\n",
        "                                          shuffle=True, num_workers=2)"
      ],
      "metadata": {
        "id": "tqlRPlemiizf"
      },
      "execution_count": null,
      "outputs": []
    },
    {
      "cell_type": "markdown",
      "source": [
        "# Prepare model"
      ],
      "metadata": {
        "id": "bqcN1X4pkqR7"
      }
    },
    {
      "cell_type": "code",
      "source": [
        "!pip install mlconfig"
      ],
      "metadata": {
        "colab": {
          "base_uri": "https://localhost:8080/",
          "height": 443
        },
        "id": "30cAoIOck_qv",
        "outputId": "8b239aaf-b723-4d41-bca2-2e8d5504fd40"
      },
      "execution_count": null,
      "outputs": [
        {
          "output_type": "stream",
          "name": "stdout",
          "text": [
            "Collecting mlconfig\n",
            "  Downloading mlconfig-0.2.0-py3-none-any.whl (3.4 kB)\n",
            "Collecting omegaconf<3.0.0,>=2.3.0 (from mlconfig)\n",
            "  Downloading omegaconf-2.3.0-py3-none-any.whl (79 kB)\n",
            "\u001b[2K     \u001b[90m━━━━━━━━━━━━━━━━━━━━━━━━━━━━━━━━━━━━━━━━\u001b[0m \u001b[32m79.5/79.5 kB\u001b[0m \u001b[31m2.5 MB/s\u001b[0m eta \u001b[36m0:00:00\u001b[0m\n",
            "\u001b[?25hCollecting antlr4-python3-runtime==4.9.* (from omegaconf<3.0.0,>=2.3.0->mlconfig)\n",
            "  Downloading antlr4-python3-runtime-4.9.3.tar.gz (117 kB)\n",
            "\u001b[2K     \u001b[90m━━━━━━━━━━━━━━━━━━━━━━━━━━━━━━━━━━━━━━━━\u001b[0m \u001b[32m117.0/117.0 kB\u001b[0m \u001b[31m8.4 MB/s\u001b[0m eta \u001b[36m0:00:00\u001b[0m\n",
            "\u001b[?25h  Preparing metadata (setup.py) ... \u001b[?25l\u001b[?25hdone\n",
            "Requirement already satisfied: PyYAML>=5.1.0 in /usr/local/lib/python3.10/dist-packages (from omegaconf<3.0.0,>=2.3.0->mlconfig) (6.0.1)\n",
            "Building wheels for collected packages: antlr4-python3-runtime\n",
            "  Building wheel for antlr4-python3-runtime (setup.py) ... \u001b[?25l\u001b[?25hdone\n",
            "  Created wheel for antlr4-python3-runtime: filename=antlr4_python3_runtime-4.9.3-py3-none-any.whl size=144554 sha256=d9f4f905961948ad16d645665d0eb811f350e070eb56942350a531bf6f0ecaad\n",
            "  Stored in directory: /root/.cache/pip/wheels/12/93/dd/1f6a127edc45659556564c5730f6d4e300888f4bca2d4c5a88\n",
            "Successfully built antlr4-python3-runtime\n",
            "Installing collected packages: antlr4-python3-runtime, omegaconf, mlconfig\n",
            "Successfully installed antlr4-python3-runtime-4.9.3 mlconfig-0.2.0 omegaconf-2.3.0\n"
          ]
        },
        {
          "output_type": "display_data",
          "data": {
            "application/vnd.colab-display-data+json": {
              "pip_warning": {
                "packages": [
                  "pydevd_plugins"
                ]
              }
            }
          },
          "metadata": {}
        }
      ]
    },
    {
      "cell_type": "code",
      "source": [
        "from models.ResNet import ResNet18\n",
        "\n",
        "\n",
        "torch.backends.cudnn.enabled = True\n",
        "torch.backends.cudnn.benchmark = True\n",
        "\n",
        "model = ResNet18()\n",
        "model = model.cuda()\n",
        "criterion = torch.nn.CrossEntropyLoss()\n",
        "optimizer = torch.optim.SGD(params=model.parameters(), lr=0.1, weight_decay=0.0005, momentum=0.9)\n",
        "\n"
      ],
      "metadata": {
        "id": "wWsG8KtYkpR_"
      },
      "execution_count": null,
      "outputs": []
    },
    {
      "cell_type": "code",
      "source": [
        "scheduler = torch.optim.lr_scheduler.CosineAnnealingLR(optimizer, T_max=30, eta_min=0)"
      ],
      "metadata": {
        "id": "o_GBMxi1lzqv"
      },
      "execution_count": null,
      "outputs": []
    },
    {
      "cell_type": "code",
      "source": [
        "clean_test_dataset = datasets.CIFAR10(root='../datasets', train=False, download=True, transform=test_transform)\n",
        "\n",
        "clean_test_loader = DataLoader(dataset=clean_test_dataset, batch_size=512,\n",
        "                                shuffle=False, pin_memory=True,\n",
        "                                drop_last=False, num_workers=12)"
      ],
      "metadata": {
        "colab": {
          "base_uri": "https://localhost:8080/"
        },
        "id": "TrqTDu8SmFjN",
        "outputId": "29d67baf-1a03-4a7c-8ab9-675d2f6c5b7e"
      },
      "execution_count": null,
      "outputs": [
        {
          "output_type": "stream",
          "name": "stdout",
          "text": [
            "Downloading https://www.cs.toronto.edu/~kriz/cifar-10-python.tar.gz to ../datasets/cifar-10-python.tar.gz\n"
          ]
        },
        {
          "output_type": "stream",
          "name": "stderr",
          "text": [
            "100%|██████████| 170498071/170498071 [00:04<00:00, 38681420.02it/s]\n"
          ]
        },
        {
          "output_type": "stream",
          "name": "stdout",
          "text": [
            "Extracting ../datasets/cifar-10-python.tar.gz to ../datasets\n"
          ]
        },
        {
          "output_type": "stream",
          "name": "stderr",
          "text": [
            "/usr/local/lib/python3.10/dist-packages/torch/utils/data/dataloader.py:557: UserWarning: This DataLoader will create 12 worker processes in total. Our suggested max number of worker in current system is 2, which is smaller than what this DataLoader is going to create. Please be aware that excessive worker creation might get DataLoader running slow or even freeze, lower the worker number to avoid potential slowness/freeze if necessary.\n",
            "  warnings.warn(_create_warning_msg(\n"
          ]
        }
      ]
    },
    {
      "cell_type": "markdown",
      "source": [
        "## Train on unlearnable training set"
      ],
      "metadata": {
        "id": "y7x3cJGJnais"
      }
    },
    {
      "cell_type": "code",
      "source": [],
      "metadata": {
        "id": "2LBsE1Iknq2r"
      },
      "execution_count": null,
      "outputs": []
    },
    {
      "cell_type": "code",
      "source": [
        "from tqdm import tqdm\n",
        "from util import AverageMeter\n",
        "\n",
        "for epoch in range(30):\n",
        "    # Train\n",
        "    model.train()\n",
        "    acc_meter = AverageMeter()\n",
        "    loss_meter = AverageMeter()\n",
        "    pbar = tqdm(unlearnable_train_loader, total=len(unlearnable_train_loader))\n",
        "    for images, labels in pbar:\n",
        "        images, labels = images.cuda(), labels.cuda()\n",
        "        model.zero_grad()\n",
        "        optimizer.zero_grad()\n",
        "        logits = model(images)\n",
        "        loss = criterion(logits, labels)\n",
        "        loss.backward()\n",
        "        torch.nn.utils.clip_grad_norm_(model.parameters(), 5.0)\n",
        "        optimizer.step()\n",
        "\n",
        "        _, predicted = torch.max(logits.data, 1)\n",
        "        acc = (predicted == labels).sum().item()/labels.size(0)\n",
        "        acc_meter.update(acc)\n",
        "        loss_meter.update(loss.item())\n",
        "        pbar.set_description(\"Acc %.2f Loss: %.2f\" % (acc_meter.avg*100, loss_meter.avg))\n",
        "    scheduler.step()\n",
        "    # Eval\n",
        "    model.eval()\n",
        "    correct, total = 0, 0\n",
        "    for i, (images, labels) in enumerate(clean_test_loader):\n",
        "        images, labels = images.cuda(), labels.cuda()\n",
        "        with torch.no_grad():\n",
        "            logits = model(images)\n",
        "            _, predicted = torch.max(logits.data, 1)\n",
        "            total += labels.size(0)\n",
        "            correct += (predicted == labels).sum().item()\n",
        "    acc = correct / total\n",
        "    tqdm.write('Clean Accuracy %.2f\\n' % (acc*100))"
      ],
      "metadata": {
        "colab": {
          "base_uri": "https://localhost:8080/"
        },
        "id": "nFlItw_jluO7",
        "outputId": "58e31b37-a6c3-4a98-c933-b4775fbe594e"
      },
      "execution_count": null,
      "outputs": [
        {
          "output_type": "stream",
          "name": "stderr",
          "text": [
            "Acc 14.84 Loss: 2.64: 100%|██████████| 4/4 [00:08<00:00,  2.21s/it]\n"
          ]
        },
        {
          "output_type": "stream",
          "name": "stdout",
          "text": [
            "Clean Accuracy 10.00\n",
            "\n"
          ]
        },
        {
          "output_type": "stream",
          "name": "stderr",
          "text": [
            "Acc 17.97 Loss: 3.12: 100%|██████████| 4/4 [00:00<00:00,  5.47it/s]\n"
          ]
        },
        {
          "output_type": "stream",
          "name": "stdout",
          "text": [
            "Clean Accuracy 11.73\n",
            "\n"
          ]
        },
        {
          "output_type": "stream",
          "name": "stderr",
          "text": [
            "Acc 20.12 Loss: 2.99: 100%|██████████| 4/4 [00:00<00:00,  5.30it/s]\n"
          ]
        },
        {
          "output_type": "stream",
          "name": "stdout",
          "text": [
            "Clean Accuracy 9.51\n",
            "\n"
          ]
        },
        {
          "output_type": "stream",
          "name": "stderr",
          "text": [
            "Acc 20.90 Loss: 2.78: 100%|██████████| 4/4 [00:00<00:00,  5.29it/s]\n"
          ]
        },
        {
          "output_type": "stream",
          "name": "stdout",
          "text": [
            "Clean Accuracy 10.35\n",
            "\n"
          ]
        },
        {
          "output_type": "stream",
          "name": "stderr",
          "text": [
            "Acc 17.77 Loss: 2.40: 100%|██████████| 4/4 [00:00<00:00,  5.97it/s]\n"
          ]
        },
        {
          "output_type": "stream",
          "name": "stdout",
          "text": [
            "Clean Accuracy 9.40\n",
            "\n"
          ]
        },
        {
          "output_type": "stream",
          "name": "stderr",
          "text": [
            "Acc 25.39 Loss: 2.32: 100%|██████████| 4/4 [00:00<00:00,  6.28it/s]\n"
          ]
        },
        {
          "output_type": "stream",
          "name": "stdout",
          "text": [
            "Clean Accuracy 10.81\n",
            "\n"
          ]
        },
        {
          "output_type": "stream",
          "name": "stderr",
          "text": [
            "Acc 20.31 Loss: 2.24: 100%|██████████| 4/4 [00:00<00:00,  8.60it/s]\n"
          ]
        },
        {
          "output_type": "stream",
          "name": "stdout",
          "text": [
            "Clean Accuracy 15.45\n",
            "\n"
          ]
        },
        {
          "output_type": "stream",
          "name": "stderr",
          "text": [
            "Acc 26.95 Loss: 2.25: 100%|██████████| 4/4 [00:00<00:00,  7.42it/s]\n"
          ]
        },
        {
          "output_type": "stream",
          "name": "stdout",
          "text": [
            "Clean Accuracy 13.85\n",
            "\n"
          ]
        },
        {
          "output_type": "stream",
          "name": "stderr",
          "text": [
            "Acc 30.66 Loss: 2.05: 100%|██████████| 4/4 [00:00<00:00,  8.37it/s]\n"
          ]
        },
        {
          "output_type": "stream",
          "name": "stdout",
          "text": [
            "Clean Accuracy 12.90\n",
            "\n"
          ]
        },
        {
          "output_type": "stream",
          "name": "stderr",
          "text": [
            "Acc 33.59 Loss: 1.89: 100%|██████████| 4/4 [00:00<00:00,  8.54it/s]\n"
          ]
        },
        {
          "output_type": "stream",
          "name": "stdout",
          "text": [
            "Clean Accuracy 12.43\n",
            "\n"
          ]
        },
        {
          "output_type": "stream",
          "name": "stderr",
          "text": [
            "Acc 36.52 Loss: 1.79: 100%|██████████| 4/4 [00:00<00:00,  7.68it/s]\n"
          ]
        },
        {
          "output_type": "stream",
          "name": "stdout",
          "text": [
            "Clean Accuracy 14.54\n",
            "\n"
          ]
        },
        {
          "output_type": "stream",
          "name": "stderr",
          "text": [
            "Acc 35.74 Loss: 1.74: 100%|██████████| 4/4 [00:00<00:00,  8.39it/s]\n"
          ]
        },
        {
          "output_type": "stream",
          "name": "stdout",
          "text": [
            "Clean Accuracy 18.52\n",
            "\n"
          ]
        },
        {
          "output_type": "stream",
          "name": "stderr",
          "text": [
            "Acc 39.45 Loss: 1.65: 100%|██████████| 4/4 [00:00<00:00,  8.40it/s]\n"
          ]
        },
        {
          "output_type": "stream",
          "name": "stdout",
          "text": [
            "Clean Accuracy 26.15\n",
            "\n"
          ]
        },
        {
          "output_type": "stream",
          "name": "stderr",
          "text": [
            "Acc 41.99 Loss: 1.59: 100%|██████████| 4/4 [00:00<00:00,  7.43it/s]\n"
          ]
        },
        {
          "output_type": "stream",
          "name": "stdout",
          "text": [
            "Clean Accuracy 27.34\n",
            "\n"
          ]
        },
        {
          "output_type": "stream",
          "name": "stderr",
          "text": [
            "Acc 44.92 Loss: 1.43: 100%|██████████| 4/4 [00:00<00:00,  7.95it/s]\n"
          ]
        },
        {
          "output_type": "stream",
          "name": "stdout",
          "text": [
            "Clean Accuracy 27.26\n",
            "\n"
          ]
        },
        {
          "output_type": "stream",
          "name": "stderr",
          "text": [
            "Acc 46.88 Loss: 1.45: 100%|██████████| 4/4 [00:00<00:00,  8.43it/s]\n"
          ]
        },
        {
          "output_type": "stream",
          "name": "stdout",
          "text": [
            "Clean Accuracy 28.93\n",
            "\n"
          ]
        },
        {
          "output_type": "stream",
          "name": "stderr",
          "text": [
            "Acc 47.27 Loss: 1.38: 100%|██████████| 4/4 [00:00<00:00,  7.07it/s]\n"
          ]
        },
        {
          "output_type": "stream",
          "name": "stdout",
          "text": [
            "Clean Accuracy 27.47\n",
            "\n"
          ]
        },
        {
          "output_type": "stream",
          "name": "stderr",
          "text": [
            "Acc 49.80 Loss: 1.35: 100%|██████████| 4/4 [00:00<00:00,  7.34it/s]\n"
          ]
        },
        {
          "output_type": "stream",
          "name": "stdout",
          "text": [
            "Clean Accuracy 30.27\n",
            "\n"
          ]
        },
        {
          "output_type": "stream",
          "name": "stderr",
          "text": [
            "Acc 54.49 Loss: 1.22: 100%|██████████| 4/4 [00:00<00:00,  8.09it/s]\n"
          ]
        },
        {
          "output_type": "stream",
          "name": "stdout",
          "text": [
            "Clean Accuracy 30.09\n",
            "\n"
          ]
        },
        {
          "output_type": "stream",
          "name": "stderr",
          "text": [
            "Acc 58.59 Loss: 1.14: 100%|██████████| 4/4 [00:00<00:00,  6.22it/s]\n"
          ]
        },
        {
          "output_type": "stream",
          "name": "stdout",
          "text": [
            "Clean Accuracy 30.49\n",
            "\n"
          ]
        },
        {
          "output_type": "stream",
          "name": "stderr",
          "text": [
            "Acc 57.62 Loss: 1.11: 100%|██████████| 4/4 [00:00<00:00,  8.11it/s]\n"
          ]
        },
        {
          "output_type": "stream",
          "name": "stdout",
          "text": [
            "Clean Accuracy 33.54\n",
            "\n"
          ]
        },
        {
          "output_type": "stream",
          "name": "stderr",
          "text": [
            "Acc 68.36 Loss: 0.97: 100%|██████████| 4/4 [00:00<00:00,  7.67it/s]\n"
          ]
        },
        {
          "output_type": "stream",
          "name": "stdout",
          "text": [
            "Clean Accuracy 33.25\n",
            "\n"
          ]
        },
        {
          "output_type": "stream",
          "name": "stderr",
          "text": [
            "Acc 65.04 Loss: 0.96: 100%|██████████| 4/4 [00:00<00:00,  8.05it/s]\n"
          ]
        },
        {
          "output_type": "stream",
          "name": "stdout",
          "text": [
            "Clean Accuracy 33.19\n",
            "\n"
          ]
        },
        {
          "output_type": "stream",
          "name": "stderr",
          "text": [
            "Acc 72.27 Loss: 0.85: 100%|██████████| 4/4 [00:00<00:00,  7.82it/s]\n"
          ]
        },
        {
          "output_type": "stream",
          "name": "stdout",
          "text": [
            "Clean Accuracy 33.59\n",
            "\n"
          ]
        },
        {
          "output_type": "stream",
          "name": "stderr",
          "text": [
            "Acc 74.61 Loss: 0.78: 100%|██████████| 4/4 [00:00<00:00,  4.48it/s]\n"
          ]
        },
        {
          "output_type": "stream",
          "name": "stdout",
          "text": [
            "Clean Accuracy 33.91\n",
            "\n"
          ]
        },
        {
          "output_type": "stream",
          "name": "stderr",
          "text": [
            "Acc 75.59 Loss: 0.74: 100%|██████████| 4/4 [00:00<00:00,  8.06it/s]\n"
          ]
        },
        {
          "output_type": "stream",
          "name": "stdout",
          "text": [
            "Clean Accuracy 34.12\n",
            "\n"
          ]
        },
        {
          "output_type": "stream",
          "name": "stderr",
          "text": [
            "Acc 73.83 Loss: 0.75: 100%|██████████| 4/4 [00:00<00:00,  8.19it/s]\n"
          ]
        },
        {
          "output_type": "stream",
          "name": "stdout",
          "text": [
            "Clean Accuracy 34.38\n",
            "\n"
          ]
        },
        {
          "output_type": "stream",
          "name": "stderr",
          "text": [
            "Acc 78.32 Loss: 0.66: 100%|██████████| 4/4 [00:00<00:00,  8.06it/s]\n"
          ]
        },
        {
          "output_type": "stream",
          "name": "stdout",
          "text": [
            "Clean Accuracy 34.03\n",
            "\n"
          ]
        },
        {
          "output_type": "stream",
          "name": "stderr",
          "text": [
            "Acc 77.15 Loss: 0.71: 100%|██████████| 4/4 [00:00<00:00,  8.05it/s]\n"
          ]
        },
        {
          "output_type": "stream",
          "name": "stdout",
          "text": [
            "Clean Accuracy 33.91\n",
            "\n"
          ]
        },
        {
          "output_type": "stream",
          "name": "stderr",
          "text": [
            "Acc 79.49 Loss: 0.64: 100%|██████████| 4/4 [00:00<00:00,  7.80it/s]\n"
          ]
        },
        {
          "output_type": "stream",
          "name": "stdout",
          "text": [
            "Clean Accuracy 33.90\n",
            "\n"
          ]
        }
      ]
    },
    {
      "cell_type": "markdown",
      "source": [
        "## Train on unlearnable augmented training set"
      ],
      "metadata": {
        "id": "mXl-wWVZnnm2"
      }
    },
    {
      "cell_type": "code",
      "source": [
        "model = ResNet18()\n",
        "model = model.cuda()\n",
        "criterion = torch.nn.CrossEntropyLoss()\n",
        "optimizer = torch.optim.SGD(params=model.parameters(), lr=0.1, weight_decay=0.0005, momentum=0.9)"
      ],
      "metadata": {
        "id": "yQ48NhpWnkW8"
      },
      "execution_count": null,
      "outputs": []
    },
    {
      "cell_type": "code",
      "source": [
        "from tqdm import tqdm\n",
        "from util import AverageMeter\n",
        "\n",
        "for epoch in range(30):\n",
        "    # Train\n",
        "    model.train()\n",
        "    acc_meter = AverageMeter()\n",
        "    loss_meter = AverageMeter()\n",
        "    pbar = tqdm(unlearnable_aug_loader, total=len(unlearnable_aug_loader))\n",
        "    for images, labels in pbar:\n",
        "        images, labels = images.cuda(), labels.cuda()\n",
        "        model.zero_grad()\n",
        "        optimizer.zero_grad()\n",
        "        logits = model(images)\n",
        "        loss = criterion(logits, labels)\n",
        "        loss.backward()\n",
        "        torch.nn.utils.clip_grad_norm_(model.parameters(), 5.0)\n",
        "        optimizer.step()\n",
        "\n",
        "        _, predicted = torch.max(logits.data, 1)\n",
        "        acc = (predicted == labels).sum().item()/labels.size(0)\n",
        "        acc_meter.update(acc)\n",
        "        loss_meter.update(loss.item())\n",
        "        pbar.set_description(\"Acc %.2f Loss: %.2f\" % (acc_meter.avg*100, loss_meter.avg))\n",
        "    scheduler.step()\n",
        "    # Eval\n",
        "    model.eval()\n",
        "    correct, total = 0, 0\n",
        "    for i, (images, labels) in enumerate(clean_test_loader):\n",
        "        images, labels = images.cuda(), labels.cuda()\n",
        "        with torch.no_grad():\n",
        "            logits = model(images)\n",
        "            _, predicted = torch.max(logits.data, 1)\n",
        "            total += labels.size(0)\n",
        "            correct += (predicted == labels).sum().item()\n",
        "    acc = correct / total\n",
        "    tqdm.write('Clean Accuracy %.2f\\n' % (acc*100))"
      ],
      "metadata": {
        "colab": {
          "base_uri": "https://localhost:8080/"
        },
        "id": "Fh1zTIBmn3MH",
        "outputId": "8cfcbda4-e1b8-4a08-82a2-76578fa98b07"
      },
      "execution_count": null,
      "outputs": [
        {
          "output_type": "stream",
          "name": "stderr",
          "text": [
            "Acc 13.48 Loss: 2.68: 100%|██████████| 4/4 [00:00<00:00,  6.71it/s]\n"
          ]
        },
        {
          "output_type": "stream",
          "name": "stdout",
          "text": [
            "Clean Accuracy 10.00\n",
            "\n"
          ]
        },
        {
          "output_type": "stream",
          "name": "stderr",
          "text": [
            "Acc 16.02 Loss: 3.13: 100%|██████████| 4/4 [00:00<00:00,  8.17it/s]\n"
          ]
        },
        {
          "output_type": "stream",
          "name": "stdout",
          "text": [
            "Clean Accuracy 10.09\n",
            "\n"
          ]
        },
        {
          "output_type": "stream",
          "name": "stderr",
          "text": [
            "Acc 16.99 Loss: 2.60: 100%|██████████| 4/4 [00:00<00:00,  8.15it/s]\n"
          ]
        },
        {
          "output_type": "stream",
          "name": "stdout",
          "text": [
            "Clean Accuracy 7.91\n",
            "\n"
          ]
        },
        {
          "output_type": "stream",
          "name": "stderr",
          "text": [
            "Acc 19.73 Loss: 2.41: 100%|██████████| 4/4 [00:00<00:00,  7.91it/s]\n"
          ]
        },
        {
          "output_type": "stream",
          "name": "stdout",
          "text": [
            "Clean Accuracy 11.96\n",
            "\n"
          ]
        },
        {
          "output_type": "stream",
          "name": "stderr",
          "text": [
            "Acc 21.48 Loss: 2.54: 100%|██████████| 4/4 [00:00<00:00,  7.93it/s]\n"
          ]
        },
        {
          "output_type": "stream",
          "name": "stdout",
          "text": [
            "Clean Accuracy 11.73\n",
            "\n"
          ]
        },
        {
          "output_type": "stream",
          "name": "stderr",
          "text": [
            "Acc 25.20 Loss: 2.13: 100%|██████████| 4/4 [00:00<00:00,  7.97it/s]\n"
          ]
        },
        {
          "output_type": "stream",
          "name": "stdout",
          "text": [
            "Clean Accuracy 16.01\n",
            "\n"
          ]
        },
        {
          "output_type": "stream",
          "name": "stderr",
          "text": [
            "Acc 29.49 Loss: 2.06: 100%|██████████| 4/4 [00:00<00:00,  7.92it/s]\n"
          ]
        },
        {
          "output_type": "stream",
          "name": "stdout",
          "text": [
            "Clean Accuracy 16.57\n",
            "\n"
          ]
        },
        {
          "output_type": "stream",
          "name": "stderr",
          "text": [
            "Acc 30.08 Loss: 1.94: 100%|██████████| 4/4 [00:00<00:00,  8.01it/s]\n"
          ]
        },
        {
          "output_type": "stream",
          "name": "stdout",
          "text": [
            "Clean Accuracy 22.02\n",
            "\n"
          ]
        },
        {
          "output_type": "stream",
          "name": "stderr",
          "text": [
            "Acc 29.88 Loss: 2.03: 100%|██████████| 4/4 [00:00<00:00,  6.89it/s]\n"
          ]
        },
        {
          "output_type": "stream",
          "name": "stdout",
          "text": [
            "Clean Accuracy 22.89\n",
            "\n"
          ]
        },
        {
          "output_type": "stream",
          "name": "stderr",
          "text": [
            "Acc 34.18 Loss: 1.96: 100%|██████████| 4/4 [00:00<00:00,  7.96it/s]\n"
          ]
        },
        {
          "output_type": "stream",
          "name": "stdout",
          "text": [
            "Clean Accuracy 16.39\n",
            "\n"
          ]
        },
        {
          "output_type": "stream",
          "name": "stderr",
          "text": [
            "Acc 32.42 Loss: 1.86: 100%|██████████| 4/4 [00:00<00:00,  7.92it/s]\n"
          ]
        },
        {
          "output_type": "stream",
          "name": "stdout",
          "text": [
            "Clean Accuracy 20.10\n",
            "\n"
          ]
        },
        {
          "output_type": "stream",
          "name": "stderr",
          "text": [
            "Acc 34.18 Loss: 1.81: 100%|██████████| 4/4 [00:00<00:00,  7.70it/s]\n"
          ]
        },
        {
          "output_type": "stream",
          "name": "stdout",
          "text": [
            "Clean Accuracy 15.27\n",
            "\n"
          ]
        },
        {
          "output_type": "stream",
          "name": "stderr",
          "text": [
            "Acc 34.38 Loss: 1.74: 100%|██████████| 4/4 [00:00<00:00,  7.73it/s]\n"
          ]
        },
        {
          "output_type": "stream",
          "name": "stdout",
          "text": [
            "Clean Accuracy 22.36\n",
            "\n"
          ]
        },
        {
          "output_type": "stream",
          "name": "stderr",
          "text": [
            "Acc 35.74 Loss: 1.63: 100%|██████████| 4/4 [00:00<00:00,  8.19it/s]\n"
          ]
        },
        {
          "output_type": "stream",
          "name": "stdout",
          "text": [
            "Clean Accuracy 23.68\n",
            "\n"
          ]
        },
        {
          "output_type": "stream",
          "name": "stderr",
          "text": [
            "Acc 43.36 Loss: 1.52: 100%|██████████| 4/4 [00:00<00:00,  8.06it/s]\n"
          ]
        },
        {
          "output_type": "stream",
          "name": "stdout",
          "text": [
            "Clean Accuracy 25.31\n",
            "\n"
          ]
        },
        {
          "output_type": "stream",
          "name": "stderr",
          "text": [
            "Acc 45.31 Loss: 1.51: 100%|██████████| 4/4 [00:00<00:00,  8.10it/s]\n"
          ]
        },
        {
          "output_type": "stream",
          "name": "stdout",
          "text": [
            "Clean Accuracy 23.13\n",
            "\n"
          ]
        },
        {
          "output_type": "stream",
          "name": "stderr",
          "text": [
            "Acc 48.44 Loss: 1.40: 100%|██████████| 4/4 [00:00<00:00,  8.03it/s]\n"
          ]
        },
        {
          "output_type": "stream",
          "name": "stdout",
          "text": [
            "Clean Accuracy 21.84\n",
            "\n"
          ]
        },
        {
          "output_type": "stream",
          "name": "stderr",
          "text": [
            "Acc 45.31 Loss: 1.54: 100%|██████████| 4/4 [00:00<00:00,  7.89it/s]\n"
          ]
        },
        {
          "output_type": "stream",
          "name": "stdout",
          "text": [
            "Clean Accuracy 14.67\n",
            "\n"
          ]
        },
        {
          "output_type": "stream",
          "name": "stderr",
          "text": [
            "Acc 43.16 Loss: 1.50: 100%|██████████| 4/4 [00:00<00:00,  8.15it/s]\n"
          ]
        },
        {
          "output_type": "stream",
          "name": "stdout",
          "text": [
            "Clean Accuracy 22.37\n",
            "\n"
          ]
        },
        {
          "output_type": "stream",
          "name": "stderr",
          "text": [
            "Acc 51.56 Loss: 1.32: 100%|██████████| 4/4 [00:00<00:00,  7.33it/s]\n"
          ]
        },
        {
          "output_type": "stream",
          "name": "stdout",
          "text": [
            "Clean Accuracy 18.99\n",
            "\n"
          ]
        },
        {
          "output_type": "stream",
          "name": "stderr",
          "text": [
            "Acc 54.88 Loss: 1.22: 100%|██████████| 4/4 [00:00<00:00,  8.12it/s]\n"
          ]
        },
        {
          "output_type": "stream",
          "name": "stdout",
          "text": [
            "Clean Accuracy 21.78\n",
            "\n"
          ]
        },
        {
          "output_type": "stream",
          "name": "stderr",
          "text": [
            "Acc 54.10 Loss: 1.23: 100%|██████████| 4/4 [00:00<00:00,  7.82it/s]\n"
          ]
        },
        {
          "output_type": "stream",
          "name": "stdout",
          "text": [
            "Clean Accuracy 25.45\n",
            "\n"
          ]
        },
        {
          "output_type": "stream",
          "name": "stderr",
          "text": [
            "Acc 61.52 Loss: 1.06: 100%|██████████| 4/4 [00:00<00:00,  7.60it/s]\n"
          ]
        },
        {
          "output_type": "stream",
          "name": "stdout",
          "text": [
            "Clean Accuracy 15.87\n",
            "\n"
          ]
        },
        {
          "output_type": "stream",
          "name": "stderr",
          "text": [
            "Acc 63.28 Loss: 1.00: 100%|██████████| 4/4 [00:00<00:00,  8.11it/s]\n"
          ]
        },
        {
          "output_type": "stream",
          "name": "stdout",
          "text": [
            "Clean Accuracy 24.06\n",
            "\n"
          ]
        },
        {
          "output_type": "stream",
          "name": "stderr",
          "text": [
            "Acc 60.74 Loss: 1.07: 100%|██████████| 4/4 [00:00<00:00,  8.01it/s]\n"
          ]
        },
        {
          "output_type": "stream",
          "name": "stdout",
          "text": [
            "Clean Accuracy 19.24\n",
            "\n"
          ]
        },
        {
          "output_type": "stream",
          "name": "stderr",
          "text": [
            "Acc 65.43 Loss: 0.91: 100%|██████████| 4/4 [00:00<00:00,  7.25it/s]\n"
          ]
        },
        {
          "output_type": "stream",
          "name": "stdout",
          "text": [
            "Clean Accuracy 17.24\n",
            "\n"
          ]
        },
        {
          "output_type": "stream",
          "name": "stderr",
          "text": [
            "Acc 67.58 Loss: 0.84: 100%|██████████| 4/4 [00:00<00:00,  7.98it/s]\n"
          ]
        },
        {
          "output_type": "stream",
          "name": "stdout",
          "text": [
            "Clean Accuracy 19.65\n",
            "\n"
          ]
        },
        {
          "output_type": "stream",
          "name": "stderr",
          "text": [
            "Acc 72.66 Loss: 0.77: 100%|██████████| 4/4 [00:00<00:00,  7.80it/s]\n"
          ]
        },
        {
          "output_type": "stream",
          "name": "stdout",
          "text": [
            "Clean Accuracy 25.01\n",
            "\n"
          ]
        },
        {
          "output_type": "stream",
          "name": "stderr",
          "text": [
            "Acc 72.85 Loss: 0.79: 100%|██████████| 4/4 [00:00<00:00,  7.90it/s]\n"
          ]
        },
        {
          "output_type": "stream",
          "name": "stdout",
          "text": [
            "Clean Accuracy 24.67\n",
            "\n"
          ]
        },
        {
          "output_type": "stream",
          "name": "stderr",
          "text": [
            "Acc 72.46 Loss: 0.79: 100%|██████████| 4/4 [00:00<00:00,  8.05it/s]\n"
          ]
        },
        {
          "output_type": "stream",
          "name": "stdout",
          "text": [
            "Clean Accuracy 23.14\n",
            "\n"
          ]
        }
      ]
    },
    {
      "cell_type": "markdown",
      "source": [
        "# Explore Emin (need to be updated for all the remaining)"
      ],
      "metadata": {
        "id": "Fmat5wRkHYtK"
      }
    },
    {
      "cell_type": "markdown",
      "source": [
        "## Emin with normalization"
      ],
      "metadata": {
        "id": "dD2jgf7xHciK"
      }
    },
    {
      "cell_type": "code",
      "source": [
        "def imshow(img, min_pixel, max_pixel):\n",
        "  if min_pixel == 0 and max_pixel == 1:\n",
        "    img = np.clip(img * 255 + 0.5, 0, 255).astype(np.uint8)\n",
        "\n",
        "  if min_pixel == -1 and max_pixel == 1:\n",
        "    img = (img + 1) / 2 #[-1, 1] -> [0, 1]\n",
        "    img = np.clip(img * 255 + 0.5, 0, 255).astype(np.uint8)\n",
        "\n",
        "  if img.shape[0] == 3:\n",
        "    plt.imshow(np.transpose(img, (1, 2, 0)))\n",
        "  else:\n",
        "    plt.imshow(img.astype(np.uint8))\n",
        "  plt.show()"
      ],
      "metadata": {
        "id": "wyOEnI3gPXl_"
      },
      "execution_count": 5,
      "outputs": []
    },
    {
      "cell_type": "code",
      "source": [
        "albumentations_transform = A.Compose([\n",
        "    A.RandomCrop(32, 32),\n",
        "    A.HorizontalFlip(),\n",
        "    A.Normalize(\n",
        "        mean=[0.5, 0.5, 0.5],\n",
        "        std=[0.5, 0.5, 0.5],\n",
        "    ),\n",
        "    ToTensorV2()\n",
        "])"
      ],
      "metadata": {
        "id": "juegQQEjG1z7"
      },
      "execution_count": null,
      "outputs": []
    },
    {
      "cell_type": "code",
      "source": [
        "unlearnable_train_dataset = Cifar10UnlearnableDataset('/content/',\n",
        "                                                      'emin_perturbed_x',\n",
        "                                                      'y_train_cifar10',\n",
        "                                                      train_size=50000,\n",
        "                            transform=albumentations_transform)"
      ],
      "metadata": {
        "id": "AWUheUxBG-5q"
      },
      "execution_count": null,
      "outputs": []
    },
    {
      "cell_type": "markdown",
      "source": [
        "#### Unlearnable examples with ResNet18 model"
      ],
      "metadata": {
        "id": "nH4vzUiEeU-g"
      }
    },
    {
      "cell_type": "code",
      "source": [
        "u_x_train = np.load(f'/content/ResNet18/x_train_orig.npy', allow_pickle=True)"
      ],
      "metadata": {
        "id": "_57jTIBYpnE-"
      },
      "execution_count": null,
      "outputs": []
    },
    {
      "cell_type": "code",
      "source": [
        "u_x_train.shape"
      ],
      "metadata": {
        "colab": {
          "base_uri": "https://localhost:8080/"
        },
        "id": "HWavWf0NpsJn",
        "outputId": "531722f4-959b-4c63-b581-8d796d4b4c1b"
      },
      "execution_count": null,
      "outputs": [
        {
          "output_type": "execute_result",
          "data": {
            "text/plain": [
              "(448, 32, 32, 3)"
            ]
          },
          "metadata": {},
          "execution_count": 107
        }
      ]
    },
    {
      "cell_type": "code",
      "source": [
        "u_x_train[0].min()"
      ],
      "metadata": {
        "colab": {
          "base_uri": "https://localhost:8080/"
        },
        "id": "5p2JxQJspv0d",
        "outputId": "7d365a35-e94c-4ffc-c3b4-154569621950"
      },
      "execution_count": null,
      "outputs": [
        {
          "output_type": "execute_result",
          "data": {
            "text/plain": [
              "34.0"
            ]
          },
          "metadata": {},
          "execution_count": 108
        }
      ]
    },
    {
      "cell_type": "code",
      "source": [
        "u_x_train[0].max()"
      ],
      "metadata": {
        "colab": {
          "base_uri": "https://localhost:8080/"
        },
        "id": "F7ezhGlVpxDV",
        "outputId": "2f085c39-a3d9-4f20-d3fe-ce01a4df0bc2"
      },
      "execution_count": null,
      "outputs": [
        {
          "output_type": "execute_result",
          "data": {
            "text/plain": [
              "255.0"
            ]
          },
          "metadata": {},
          "execution_count": 109
        }
      ]
    },
    {
      "cell_type": "code",
      "source": [
        "imshow(u_x_train[2], 0, 255)"
      ],
      "metadata": {
        "colab": {
          "base_uri": "https://localhost:8080/",
          "height": 430
        },
        "id": "pcsR50rRp2EN",
        "outputId": "05b725dc-e7b2-4eb5-95f1-2538e5d400e8"
      },
      "execution_count": null,
      "outputs": [
        {
          "output_type": "display_data",
          "data": {
            "text/plain": [
              "<Figure size 640x480 with 1 Axes>"
            ],
            "image/png": "[encoded data removed]"
          },
          "metadata": {}
        }
      ]
    },
    {
      "cell_type": "markdown",
      "source": [
        "#### Unlearnable augmented examples with ResNet18 model"
      ],
      "metadata": {
        "id": "XWE-smF1ehX2"
      }
    },
    {
      "cell_type": "code",
      "source": [
        "u_x_train_aug = np.load(f'/content/ResNet18/x_train_aug.npy', allow_pickle=True)"
      ],
      "metadata": {
        "id": "GSF6M2fjaObS"
      },
      "execution_count": null,
      "outputs": []
    },
    {
      "cell_type": "code",
      "source": [
        "u_x_train_aug.shape"
      ],
      "metadata": {
        "colab": {
          "base_uri": "https://localhost:8080/"
        },
        "id": "FIJVZkZjaTQL",
        "outputId": "f77d8202-dafe-4294-caae-3e40d5a512d6"
      },
      "execution_count": null,
      "outputs": [
        {
          "output_type": "execute_result",
          "data": {
            "text/plain": [
              "(448, 32, 32, 3)"
            ]
          },
          "metadata": {},
          "execution_count": 112
        }
      ]
    },
    {
      "cell_type": "code",
      "source": [
        "u_x_train_aug[0].min()"
      ],
      "metadata": {
        "colab": {
          "base_uri": "https://localhost:8080/"
        },
        "id": "4gO4ONhYaU2r",
        "outputId": "6fc1b381-cd68-4a2f-a71b-c40dddc7aafa"
      },
      "execution_count": null,
      "outputs": [
        {
          "output_type": "execute_result",
          "data": {
            "text/plain": [
              "0.68072015"
            ]
          },
          "metadata": {},
          "execution_count": 113
        }
      ]
    },
    {
      "cell_type": "code",
      "source": [
        "u_x_train_aug[0].max()"
      ],
      "metadata": {
        "colab": {
          "base_uri": "https://localhost:8080/"
        },
        "id": "tv1pWcmQaWNP",
        "outputId": "632f2041-04e0-44b2-923b-1123446e16b2"
      },
      "execution_count": null,
      "outputs": [
        {
          "output_type": "execute_result",
          "data": {
            "text/plain": [
              "0.99999994"
            ]
          },
          "metadata": {},
          "execution_count": 114
        }
      ]
    },
    {
      "cell_type": "code",
      "source": [
        "imshow(u_x_train_aug[2], 0, 255) #need more iterations"
      ],
      "metadata": {
        "colab": {
          "base_uri": "https://localhost:8080/",
          "height": 430
        },
        "id": "fAVta0eTaXzg",
        "outputId": "e37339c2-8cc5-4f88-8e51-dcbc42bcde45"
      },
      "execution_count": null,
      "outputs": [
        {
          "output_type": "display_data",
          "data": {
            "text/plain": [
              "<Figure size 640x480 with 1 Axes>"
            ],
            "image/png": "[encoded data removed]"
          },
          "metadata": {}
        }
      ]
    },
    {
      "cell_type": "markdown",
      "source": [
        "#### Unlearnable examples with WideResNet"
      ],
      "metadata": {
        "id": "VS99l1G5eyLd"
      }
    },
    {
      "cell_type": "code",
      "source": [
        "u_x_train = np.load(f'/content/x_train_orig.npy', allow_pickle=True)"
      ],
      "metadata": {
        "id": "27ubg1uiexGM"
      },
      "execution_count": null,
      "outputs": []
    },
    {
      "cell_type": "code",
      "source": [
        "u_x_train.shape"
      ],
      "metadata": {
        "colab": {
          "base_uri": "https://localhost:8080/"
        },
        "id": "PNnZZd1ke6qC",
        "outputId": "9fdbde8a-75bf-43cf-b38d-d8a3a288e37d"
      },
      "execution_count": null,
      "outputs": [
        {
          "output_type": "execute_result",
          "data": {
            "text/plain": [
              "(1984, 32, 32, 3)"
            ]
          },
          "metadata": {},
          "execution_count": 15
        }
      ]
    },
    {
      "cell_type": "code",
      "source": [
        "u_x_train[2].min()"
      ],
      "metadata": {
        "colab": {
          "base_uri": "https://localhost:8080/"
        },
        "id": "CNl3xMxrfI6h",
        "outputId": "05709af1-916c-4f44-a336-b3be6711be89"
      },
      "execution_count": null,
      "outputs": [
        {
          "output_type": "execute_result",
          "data": {
            "text/plain": [
              "0.0"
            ]
          },
          "metadata": {},
          "execution_count": 21
        }
      ]
    },
    {
      "cell_type": "code",
      "source": [
        "u_x_train[2].max()"
      ],
      "metadata": {
        "colab": {
          "base_uri": "https://localhost:8080/"
        },
        "id": "nEvlKNeRfKci",
        "outputId": "69ef1e16-db3f-4fa2-b48d-18d9afa859f1"
      },
      "execution_count": null,
      "outputs": [
        {
          "output_type": "execute_result",
          "data": {
            "text/plain": [
              "249.0"
            ]
          },
          "metadata": {},
          "execution_count": 22
        }
      ]
    },
    {
      "cell_type": "code",
      "source": [
        "imshow(u_x_train[2], 0, 255) #need more iterations"
      ],
      "metadata": {
        "colab": {
          "base_uri": "https://localhost:8080/",
          "height": 430
        },
        "id": "zOnNtLLbe-Du",
        "outputId": "56791fea-107f-4011-d846-9135811ab125"
      },
      "execution_count": null,
      "outputs": [
        {
          "output_type": "display_data",
          "data": {
            "text/plain": [
              "<Figure size 640x480 with 1 Axes>"
            ],
            "image/png": "[encoded data removed]"
          },
          "metadata": {}
        }
      ]
    },
    {
      "cell_type": "code",
      "source": [
        "u_x_train = np.load(f'/content/seq4/x_train_orig.npy', allow_pickle=True)\n",
        "imshow(u_x_train[2], 0, 255) #need more iterations"
      ],
      "metadata": {
        "colab": {
          "base_uri": "https://localhost:8080/",
          "height": 430
        },
        "id": "3X3EVNFNgGJN",
        "outputId": "729df303-e851-445a-c711-290c019b76f8"
      },
      "execution_count": null,
      "outputs": [
        {
          "output_type": "display_data",
          "data": {
            "text/plain": [
              "<Figure size 640x480 with 1 Axes>"
            ],
            "image/png": "[encoded data removed]"
          },
          "metadata": {}
        }
      ]
    },
    {
      "cell_type": "code",
      "source": [
        "u_x_train = np.load(f'/content/seq8/x_train_orig.npy', allow_pickle=True)\n",
        "imshow(u_x_train[2], 0, 255) #need more iterations"
      ],
      "metadata": {
        "colab": {
          "base_uri": "https://localhost:8080/",
          "height": 430
        },
        "id": "HVC9zVgkgO73",
        "outputId": "fc981a34-0afa-4b57-ec96-33f84ba0f83f"
      },
      "execution_count": null,
      "outputs": [
        {
          "output_type": "display_data",
          "data": {
            "text/plain": [
              "<Figure size 640x480 with 1 Axes>"
            ],
            "image/png": "[encoded data removed]"
          },
          "metadata": {}
        }
      ]
    },
    {
      "cell_type": "markdown",
      "source": [
        "### Unlearnable augmented examples with WideResNet"
      ],
      "metadata": {
        "id": "jGh1rOJHfzFe"
      }
    },
    {
      "cell_type": "code",
      "source": [
        "import numpy as np\n",
        "u_x_train_aug = np.load(f'/content/x_train_aug.npy', allow_pickle=True)"
      ],
      "metadata": {
        "id": "sU-xF44tf44p"
      },
      "execution_count": null,
      "outputs": []
    },
    {
      "cell_type": "code",
      "source": [
        "u_x_train_aug.shape, u_x_train_aug[2].min(), u_x_train_aug[2].max()"
      ],
      "metadata": {
        "colab": {
          "base_uri": "https://localhost:8080/"
        },
        "id": "49LzxY3_gCgL",
        "outputId": "74b6da31-c25e-4129-eef1-75feb2a1f8f2"
      },
      "execution_count": null,
      "outputs": [
        {
          "output_type": "execute_result",
          "data": {
            "text/plain": [
              "((1984, 32, 32, 3), 0.006973058, 0.99992466)"
            ]
          },
          "metadata": {},
          "execution_count": 10
        }
      ]
    },
    {
      "cell_type": "code",
      "source": [
        "imshow(u_x_train_aug[2], 0, 1)"
      ],
      "metadata": {
        "colab": {
          "base_uri": "https://localhost:8080/",
          "height": 430
        },
        "id": "lb1n5bkFeHBT",
        "outputId": "f80f9bf4-37c8-45e6-ce28-168fc33e853b"
      },
      "execution_count": null,
      "outputs": [
        {
          "output_type": "display_data",
          "data": {
            "text/plain": [
              "<Figure size 640x480 with 1 Axes>"
            ],
            "image/png": "[encoded data removed]"
          },
          "metadata": {}
        }
      ]
    },
    {
      "cell_type": "code",
      "source": [
        "imshow(u_x_train_aug[2], 0, 1)"
      ],
      "metadata": {
        "colab": {
          "base_uri": "https://localhost:8080/",
          "height": 430
        },
        "id": "T6OP9IWjgKFQ",
        "outputId": "220ef44f-07e7-49ba-fdfa-a4eb0204a577"
      },
      "execution_count": null,
      "outputs": [
        {
          "output_type": "display_data",
          "data": {
            "text/plain": [
              "<Figure size 640x480 with 1 Axes>"
            ],
            "image/png": "[encoded data removed]"
          },
          "metadata": {}
        }
      ]
    },
    {
      "cell_type": "code",
      "source": [
        "u_x_train_aug = np.load(f'/content/seq4/x_train_aug.npy', allow_pickle=True)"
      ],
      "metadata": {
        "id": "A2sI5j8RfPeJ"
      },
      "execution_count": null,
      "outputs": []
    },
    {
      "cell_type": "code",
      "source": [
        "u_x_train_aug.shape, u_x_train_aug[2].min(), u_x_train_aug[2].max()"
      ],
      "metadata": {
        "colab": {
          "base_uri": "https://localhost:8080/"
        },
        "id": "wl3qvWkSfV4o",
        "outputId": "167e3713-af28-41b3-c8c5-7b8fb6299daf"
      },
      "execution_count": null,
      "outputs": [
        {
          "output_type": "execute_result",
          "data": {
            "text/plain": [
              "((1984, 32, 32, 3), 0.54677546, 0.9852516)"
            ]
          },
          "metadata": {},
          "execution_count": 25
        }
      ]
    },
    {
      "cell_type": "code",
      "source": [
        "imshow(u_x_train_aug[2], 0, 1)"
      ],
      "metadata": {
        "colab": {
          "base_uri": "https://localhost:8080/",
          "height": 430
        },
        "id": "GoDfWJyofdrr",
        "outputId": "14c6d282-07b1-4ee5-be96-d272b99e1ebb"
      },
      "execution_count": null,
      "outputs": [
        {
          "output_type": "display_data",
          "data": {
            "text/plain": [
              "<Figure size 640x480 with 1 Axes>"
            ],
            "image/png": "[encoded data removed]"
          },
          "metadata": {}
        }
      ]
    },
    {
      "cell_type": "code",
      "source": [
        "u_x_train_aug = np.load(f'/content/seq8/x_train_aug.npy', allow_pickle=True)\n",
        "imshow(u_x_train_aug[2], 0, 1)"
      ],
      "metadata": {
        "colab": {
          "base_uri": "https://localhost:8080/",
          "height": 430
        },
        "id": "TDYOweSzf-xi",
        "outputId": "d8bdfe76-2577-49e5-bc43-10bcd39574ca"
      },
      "execution_count": null,
      "outputs": [
        {
          "output_type": "display_data",
          "data": {
            "text/plain": [
              "<Figure size 640x480 with 1 Axes>"
            ],
            "image/png": "[encoded data removed]"
          },
          "metadata": {}
        }
      ]
    },
    {
      "cell_type": "code",
      "source": [
        "selected_idx = [random.randint(0, 50000) for _ in range(3)]\n",
        "img_grid = []\n",
        "for idx in selected_idx:\n",
        "  img_grid += get_pairs_of_imgs(idx, clean_train_dataset, unlearnable_train_dataset)\n",
        "\n",
        "\n",
        "imshow(torchvision.utils.make_grid(torch.stack(img_grid), nrow=2, pad_value=255))"
      ],
      "metadata": {
        "id": "MrCfbZ_IHCwT"
      },
      "execution_count": null,
      "outputs": []
    },
    {
      "cell_type": "code",
      "source": [
        "unlearnable_train_dataset = Cifar10UnlearnableDataset('/content/',\n",
        "                                                      'emin_perturbed_x',\n",
        "                                                      'y_train_cifar10',\n",
        "                                                      train_size=4000,\n",
        "                            transform=albumentations_transform)"
      ],
      "metadata": {
        "id": "QjRvPvgCOscq"
      },
      "execution_count": null,
      "outputs": []
    },
    {
      "cell_type": "code",
      "source": [
        "selected_idx = [random.randint(0, 4000) for _ in range(3)]\n",
        "img_grid = []\n",
        "for idx in selected_idx:\n",
        "  img_grid += get_pairs_of_imgs(idx, clean_train_dataset, unlearnable_train_dataset)\n",
        "\n",
        "\n",
        "imshow(torchvision.utils.make_grid(torch.stack(img_grid), nrow=2, pad_value=255))"
      ],
      "metadata": {
        "id": "UNdHZBQeOu49"
      },
      "execution_count": null,
      "outputs": []
    },
    {
      "cell_type": "markdown",
      "source": [
        "## Deep Confuse"
      ],
      "metadata": {
        "id": "OyTQ0ZOnHhxB"
      }
    },
    {
      "cell_type": "code",
      "source": [
        "albumentations_transform = A.Compose([\n",
        "    A.RandomCrop(32, 32),\n",
        "    A.HorizontalFlip(),\n",
        "    A.Normalize(\n",
        "        mean=[0.5, 0.5, 0.5],\n",
        "        std=[0.5, 0.5, 0.5],\n",
        "    ),\n",
        "    ToTensorV2()\n",
        "])"
      ],
      "metadata": {
        "id": "uqWpRRYWIwPi"
      },
      "execution_count": null,
      "outputs": []
    },
    {
      "cell_type": "code",
      "source": [
        "unlearnable_train_dataset = Cifar10UnlearnableDataset('/content/',\n",
        "                                                      'deepconfuse_perturbed_x',\n",
        "                                                      'y_train_cifar10',\n",
        "                                                      train_size=50000,\n",
        "                            transform=albumentations_transform)\n"
      ],
      "metadata": {
        "id": "Cb1gYPqdp2Ib"
      },
      "execution_count": null,
      "outputs": []
    },
    {
      "cell_type": "code",
      "source": [
        "selected_idx = [random.randint(0, 50000) for _ in range(3)]\n",
        "img_grid = []\n",
        "for idx in selected_idx:\n",
        "  img_grid += get_pairs_of_imgs(idx, clean_train_dataset, unlearnable_train_dataset)\n",
        "\n",
        "\n",
        "imshow(torchvision.utils.make_grid(torch.stack(img_grid), nrow=2, pad_value=255))"
      ],
      "metadata": {
        "id": "Vxnr2AyIIqHK"
      },
      "execution_count": null,
      "outputs": []
    },
    {
      "cell_type": "code",
      "source": [
        "unlearnable_train_dataset = Cifar10UnlearnableDataset('/content/',\n",
        "                                                      'deepconfuse_perturbed_x',\n",
        "                                                      'y_train_cifar10',\n",
        "                                                      train_size=4000,\n",
        "                            transform=albumentations_transform)"
      ],
      "metadata": {
        "id": "ifb7r-4bO-A1"
      },
      "execution_count": null,
      "outputs": []
    },
    {
      "cell_type": "code",
      "source": [
        "selected_idx = [random.randint(0, 4000) for _ in range(3)]\n",
        "img_grid = []\n",
        "for idx in selected_idx:\n",
        "  img_grid += get_pairs_of_imgs(idx, clean_train_dataset, unlearnable_train_dataset)\n",
        "\n",
        "\n",
        "imshow(torchvision.utils.make_grid(torch.stack(img_grid), nrow=2, pad_value=255))"
      ],
      "metadata": {
        "id": "oNf-ni8-PA46"
      },
      "execution_count": null,
      "outputs": []
    },
    {
      "cell_type": "markdown",
      "source": [
        "## Syn_perturbed"
      ],
      "metadata": {
        "id": "19kHdrsnI6Sw"
      }
    },
    {
      "cell_type": "code",
      "source": [
        "albumentations_transform = A.Compose([\n",
        "    A.RandomCrop(32, 32),\n",
        "    A.HorizontalFlip(),\n",
        "    A.Normalize(\n",
        "        mean=[0.5, 0.5, 0.5],\n",
        "        std=[0.5, 0.5, 0.5],\n",
        "    ),\n",
        "    ToTensorV2()\n",
        "])"
      ],
      "metadata": {
        "id": "ufqUI21MJHvS"
      },
      "execution_count": null,
      "outputs": []
    },
    {
      "cell_type": "code",
      "source": [
        "unlearnable_train_dataset = Cifar10UnlearnableDataset('/content/',\n",
        "                                                      'syn_perturbed_x',\n",
        "                                                      'y_train_cifar10',\n",
        "                                                      train_size=50000,\n",
        "                            transform=albumentations_transform)\n"
      ],
      "metadata": {
        "id": "P2KgVPKpJAxQ"
      },
      "execution_count": null,
      "outputs": []
    },
    {
      "cell_type": "code",
      "source": [
        "selected_idx = [random.randint(0, 50000) for _ in range(3)]\n",
        "img_grid = []\n",
        "for idx in selected_idx:\n",
        "  img_grid += get_pairs_of_imgs(idx, clean_train_dataset, unlearnable_train_dataset)\n",
        "\n",
        "\n",
        "imshow(torchvision.utils.make_grid(torch.stack(img_grid), nrow=2, pad_value=255))"
      ],
      "metadata": {
        "id": "UdotzQ8UJKux"
      },
      "execution_count": null,
      "outputs": []
    },
    {
      "cell_type": "code",
      "source": [
        "unlearnable_train_dataset = Cifar10UnlearnableDataset('/content/',\n",
        "                                                      'syn_perturbed_x',\n",
        "                                                      'y_train_cifar10',\n",
        "                                                      train_size=4000,\n",
        "                            transform=albumentations_transform)"
      ],
      "metadata": {
        "id": "DvHYl3OLPF-y"
      },
      "execution_count": null,
      "outputs": []
    },
    {
      "cell_type": "code",
      "source": [
        "selected_idx = [random.randint(0, 4000) for _ in range(3)]\n",
        "img_grid = []\n",
        "for idx in selected_idx:\n",
        "  img_grid += get_pairs_of_imgs(idx, clean_train_dataset, unlearnable_train_dataset)\n",
        "\n",
        "\n",
        "imshow(torchvision.utils.make_grid(torch.stack(img_grid), nrow=2, pad_value=255))"
      ],
      "metadata": {
        "id": "tbz0c-TfPIvy"
      },
      "execution_count": null,
      "outputs": []
    },
    {
      "cell_type": "markdown",
      "source": [
        "## Emax"
      ],
      "metadata": {
        "id": "zsQs4YPfJYj5"
      }
    },
    {
      "cell_type": "code",
      "source": [
        "unlearnable_train_dataset = Cifar10UnlearnableDataset('/content/',\n",
        "                                                      'emax_perturbed_x',\n",
        "                                                      'y_train_cifar10',\n",
        "                                                      train_size=40000,\n",
        "                            transform=albumentations_transform)"
      ],
      "metadata": {
        "id": "7En3jvKfLIeG"
      },
      "execution_count": null,
      "outputs": []
    },
    {
      "cell_type": "code",
      "source": [
        "selected_idx = [random.randint(0, 40000) for _ in range(3)]\n",
        "img_grid = []\n",
        "for idx in selected_idx:\n",
        "  img_grid += get_pairs_of_imgs(idx, clean_train_dataset, unlearnable_train_dataset)\n",
        "\n",
        "\n",
        "imshow(torchvision.utils.make_grid(torch.stack(img_grid), nrow=2, pad_value=255))"
      ],
      "metadata": {
        "id": "2jvDyiKjLJUG"
      },
      "execution_count": null,
      "outputs": []
    },
    {
      "cell_type": "code",
      "source": [
        "unlearnable_train_dataset = Cifar10UnlearnableDataset('/content/',\n",
        "                                                      'emax_perturbed_x',\n",
        "                                                      'y_train_cifar10',\n",
        "                                                      train_size=4000,\n",
        "                            transform=albumentations_transform)"
      ],
      "metadata": {
        "id": "cWHkA6zjPRzz"
      },
      "execution_count": null,
      "outputs": []
    },
    {
      "cell_type": "code",
      "source": [
        "selected_idx = [random.randint(0, 4000) for _ in range(3)]\n",
        "img_grid = []\n",
        "for idx in selected_idx:\n",
        "  img_grid += get_pairs_of_imgs(idx, clean_train_dataset, unlearnable_train_dataset)\n",
        "\n",
        "\n",
        "imshow(torchvision.utils.make_grid(torch.stack(img_grid), nrow=2, pad_value=255))"
      ],
      "metadata": {
        "id": "nda0ak3tPVAL"
      },
      "execution_count": null,
      "outputs": []
    },
    {
      "cell_type": "markdown",
      "source": [
        "## NTGA"
      ],
      "metadata": {
        "id": "K2S1LXJzJbpg"
      }
    },
    {
      "cell_type": "code",
      "source": [
        "x_train_ntga = np.load('x_train_cifar10_unlearn.npy')"
      ],
      "metadata": {
        "id": "bwI_h5-iKYXf"
      },
      "execution_count": null,
      "outputs": []
    },
    {
      "cell_type": "code",
      "source": [
        "len(x_train_ntga)"
      ],
      "metadata": {
        "id": "78U8NKVtKfyG"
      },
      "execution_count": null,
      "outputs": []
    },
    {
      "cell_type": "code",
      "source": [
        "unlearnable_train_dataset = Cifar10UnlearnableDataset('/content/',\n",
        "                                                      'x_train_cifar10_unlearn',\n",
        "                                                      'y_train_cifar10',\n",
        "                                                      train_size=40000,\n",
        "                            transform=albumentations_transform)"
      ],
      "metadata": {
        "id": "vmTkKPwIJa4f"
      },
      "execution_count": null,
      "outputs": []
    },
    {
      "cell_type": "code",
      "source": [
        "selected_idx = [random.randint(0, 40000) for _ in range(3)]\n",
        "img_grid = []\n",
        "for idx in selected_idx:\n",
        "  img_grid += get_pairs_of_imgs(idx, clean_train_dataset, unlearnable_train_dataset)\n",
        "\n",
        "\n",
        "imshow(torchvision.utils.make_grid(torch.stack(img_grid), nrow=2, pad_value=255))"
      ],
      "metadata": {
        "id": "0O38JKn3KRNH"
      },
      "execution_count": null,
      "outputs": []
    },
    {
      "cell_type": "code",
      "source": [
        "unlearnable_train_dataset = Cifar10UnlearnableDataset('/content/',\n",
        "                                                      'x_train_cifar10_unlearn',\n",
        "                                                      'y_train_cifar10',\n",
        "                                                      train_size=4000,\n",
        "                            transform=albumentations_transform)"
      ],
      "metadata": {
        "id": "7WBzNbfuPZE7"
      },
      "execution_count": null,
      "outputs": []
    },
    {
      "cell_type": "code",
      "source": [
        "selected_idx = [random.randint(0, 4000) for _ in range(3)]\n",
        "img_grid = []\n",
        "for idx in selected_idx:\n",
        "  img_grid += get_pairs_of_imgs(idx, clean_train_dataset, unlearnable_train_dataset)\n",
        "\n",
        "\n",
        "imshow(torchvision.utils.make_grid(torch.stack(img_grid), nrow=2, pad_value=255))"
      ],
      "metadata": {
        "id": "eQIfJFfsPbVu"
      },
      "execution_count": null,
      "outputs": []
    },
    {
      "cell_type": "markdown",
      "metadata": {
        "id": "HeglrKY9kIFl"
      },
      "source": [
        "<h3>Train ResNet18 on Unlearnable Dataset</h3>"
      ]
    },
    {
      "cell_type": "code",
      "execution_count": null,
      "metadata": {
        "id": "xkeavSe2kIFl"
      },
      "outputs": [],
      "source": [
        "from util import AverageMeter\n",
        "\n",
        "model = ResNet18()\n",
        "model = model.cuda()\n",
        "criterion = torch.nn.CrossEntropyLoss()\n",
        "optimizer = torch.optim.SGD(params=model.parameters(), lr=0.1, weight_decay=0.0005, momentum=0.9)\n",
        "scheduler = torch.optim.lr_scheduler.CosineAnnealingLR(optimizer, T_max=30, eta_min=0)\n",
        "\n",
        "unlearnable_loader = DataLoader(dataset=unlearnable_train_dataset, batch_size=128,\n",
        "                                shuffle=True, pin_memory=True,\n",
        "                                drop_last=False, num_workers=12)\n",
        "\n",
        "\n",
        "for epoch in range(30):\n",
        "    # Train\n",
        "    model.train()\n",
        "    acc_meter = AverageMeter()\n",
        "    loss_meter = AverageMeter()\n",
        "    pbar = tqdm(unlearnable_loader, total=len(unlearnable_loader))\n",
        "    for images, labels in pbar:\n",
        "        images, labels = images.cuda(), labels.cuda()\n",
        "        model.zero_grad()\n",
        "        optimizer.zero_grad()\n",
        "        logits = model(images)\n",
        "        loss = criterion(logits, labels)\n",
        "        loss.backward()\n",
        "        torch.nn.utils.clip_grad_norm_(model.parameters(), 5.0)\n",
        "        optimizer.step()\n",
        "\n",
        "        _, predicted = torch.max(logits.data, 1)\n",
        "        acc = (predicted == labels).sum().item()/labels.size(0)\n",
        "        acc_meter.update(acc)\n",
        "        loss_meter.update(loss.item())\n",
        "        pbar.set_description(\"Acc %.2f Loss: %.2f\" % (acc_meter.avg*100, loss_meter.avg))\n",
        "    scheduler.step()\n",
        "    # Eval\n",
        "    model.eval()\n",
        "    correct, total = 0, 0\n",
        "    for i, (images, labels) in enumerate(clean_test_loader):\n",
        "        images, labels = images.cuda(), labels.cuda()\n",
        "        with torch.no_grad():\n",
        "            logits = model(images)\n",
        "            _, predicted = torch.max(logits.data, 1)\n",
        "            total += labels.size(0)\n",
        "            correct += (predicted == labels).sum().item()\n",
        "    acc = correct / total\n",
        "    tqdm.write('Clean Accuracy %.2f\\n' % (acc*100))\n"
      ]
    },
    {
      "cell_type": "code",
      "execution_count": null,
      "metadata": {
        "id": "_QuLZn60kIFl"
      },
      "outputs": [],
      "source": []
    },
    {
      "cell_type": "code",
      "execution_count": null,
      "metadata": {
        "id": "svBHrqHWkIFl"
      },
      "outputs": [],
      "source": []
    }
  ],
  "metadata": {
    "kernelspec": {
      "display_name": "Python 3",
      "name": "python3"
    },
    "language_info": {
      "codemirror_mode": {
        "name": "ipython",
        "version": 3
      },
      "file_extension": ".py",
      "mimetype": "text/x-python",
      "name": "python",
      "nbconvert_exporter": "python",
      "pygments_lexer": "ipython3",
      "version": "3.8.2"
    },
    "colab": {
      "provenance": [],
      "toc_visible": true,
      "include_colab_link": true
    }
  },
  "nbformat": 4,
  "nbformat_minor": 0
}