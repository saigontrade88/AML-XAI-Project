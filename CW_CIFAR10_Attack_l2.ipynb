{
  "cells": [
    {
      "cell_type": "markdown",
      "metadata": {
        "id": "view-in-github",
        "colab_type": "text"
      },
      "source": [
        "<a href=\"https://colab.research.google.com/github/saigontrade88/AML-XAI-Project/blob/master/CW_CIFAR10_Attack_l2.ipynb\" target=\"_parent\"><img src=\"https://colab.research.google.com/assets/colab-badge.svg\" alt=\"Open In Colab\"/></a>"
      ]
    },
    {
      "cell_type": "code",
      "execution_count": 3,
      "metadata": {
        "ExecuteTime": {
          "end_time": "2020-08-16T10:51:58.174194Z",
          "start_time": "2020-08-16T10:51:56.774196Z"
        },
        "colab": {
          "base_uri": "https://localhost:8080/"
        },
        "id": "Q33DocNmexhe",
        "outputId": "b6d4fb92-ad21-44b1-e31a-35394c689e78"
      },
      "outputs": [
        {
          "output_type": "stream",
          "name": "stderr",
          "text": [
            "/usr/local/lib/python3.10/dist-packages/torchvision/models/_utils.py:208: UserWarning: The parameter 'pretrained' is deprecated since 0.13 and may be removed in the future, please use 'weights' instead.\n",
            "  warnings.warn(\n",
            "/usr/local/lib/python3.10/dist-packages/torchvision/models/_utils.py:223: UserWarning: Arguments other than a weight enum or `None` for 'weights' are deprecated since 0.13 and may be removed in the future. The current behavior is equivalent to passing `weights=AlexNet_Weights.IMAGENET1K_V1`. You can also use `weights=AlexNet_Weights.DEFAULT` to get the most up-to-date weights.\n",
            "  warnings.warn(msg)\n",
            "Downloading: \"https://download.pytorch.org/models/alexnet-owt-7be5be79.pth\" to /root/.cache/torch/hub/checkpoints/alexnet-owt-7be5be79.pth\n",
            "100%|██████████| 233M/233M [00:00<00:00, 281MB/s]\n"
          ]
        }
      ],
      "source": [
        "import torch\n",
        "import torch.nn.functional as F\n",
        "import torch.nn as nn\n",
        "import torch.optim as optim\n",
        "import torchvision\n",
        "import matplotlib.pyplot as plt\n",
        "from torchvision import datasets, transforms\n",
        "from torch.autograd import Variable\n",
        "import MNIST_Model\n",
        "import numpy as np\n"
      ]
    },
    {
      "cell_type": "markdown",
      "metadata": {
        "id": "m23Z3Mbeexhg"
      },
      "source": [
        "## Model & dataset"
      ]
    },
    {
      "cell_type": "code",
      "execution_count": 5,
      "metadata": {
        "ExecuteTime": {
          "end_time": "2020-08-16T10:52:00.651195Z",
          "start_time": "2020-08-16T10:51:58.354195Z"
        },
        "colab": {
          "base_uri": "https://localhost:8080/"
        },
        "id": "LmkQ3zQXexhh",
        "outputId": "dbceeae6-d7d7-4eb8-b3b1-ce03f075b6e9"
      },
      "outputs": [
        {
          "output_type": "stream",
          "name": "stdout",
          "text": [
            "Downloading http://yann.lecun.com/exdb/mnist/train-images-idx3-ubyte.gz\n",
            "Downloading http://yann.lecun.com/exdb/mnist/train-images-idx3-ubyte.gz to ./mnist/MNIST/raw/train-images-idx3-ubyte.gz\n"
          ]
        },
        {
          "output_type": "stream",
          "name": "stderr",
          "text": [
            "100%|██████████| 9912422/9912422 [00:00<00:00, 400081903.47it/s]"
          ]
        },
        {
          "output_type": "stream",
          "name": "stdout",
          "text": [
            "Extracting ./mnist/MNIST/raw/train-images-idx3-ubyte.gz to ./mnist/MNIST/raw\n"
          ]
        },
        {
          "output_type": "stream",
          "name": "stderr",
          "text": [
            "\n"
          ]
        },
        {
          "output_type": "stream",
          "name": "stdout",
          "text": [
            "\n",
            "Downloading http://yann.lecun.com/exdb/mnist/train-labels-idx1-ubyte.gz\n",
            "Downloading http://yann.lecun.com/exdb/mnist/train-labels-idx1-ubyte.gz to ./mnist/MNIST/raw/train-labels-idx1-ubyte.gz\n"
          ]
        },
        {
          "output_type": "stream",
          "name": "stderr",
          "text": [
            "100%|██████████| 28881/28881 [00:00<00:00, 38443571.51it/s]\n"
          ]
        },
        {
          "output_type": "stream",
          "name": "stdout",
          "text": [
            "Extracting ./mnist/MNIST/raw/train-labels-idx1-ubyte.gz to ./mnist/MNIST/raw\n",
            "\n",
            "Downloading http://yann.lecun.com/exdb/mnist/t10k-images-idx3-ubyte.gz\n",
            "Downloading http://yann.lecun.com/exdb/mnist/t10k-images-idx3-ubyte.gz to ./mnist/MNIST/raw/t10k-images-idx3-ubyte.gz\n"
          ]
        },
        {
          "output_type": "stream",
          "name": "stderr",
          "text": [
            "100%|██████████| 1648877/1648877 [00:00<00:00, 186371979.00it/s]\n"
          ]
        },
        {
          "output_type": "stream",
          "name": "stdout",
          "text": [
            "Extracting ./mnist/MNIST/raw/t10k-images-idx3-ubyte.gz to ./mnist/MNIST/raw\n",
            "\n",
            "Downloading http://yann.lecun.com/exdb/mnist/t10k-labels-idx1-ubyte.gz\n",
            "Downloading http://yann.lecun.com/exdb/mnist/t10k-labels-idx1-ubyte.gz to ./mnist/MNIST/raw/t10k-labels-idx1-ubyte.gz\n"
          ]
        },
        {
          "output_type": "stream",
          "name": "stderr",
          "text": [
            "100%|██████████| 4542/4542 [00:00<00:00, 4724833.52it/s]"
          ]
        },
        {
          "output_type": "stream",
          "name": "stdout",
          "text": [
            "Extracting ./mnist/MNIST/raw/t10k-labels-idx1-ubyte.gz to ./mnist/MNIST/raw\n",
            "\n"
          ]
        },
        {
          "output_type": "stream",
          "name": "stderr",
          "text": [
            "\n"
          ]
        }
      ],
      "source": [
        "target_model=MNIST_Model.MNIST_Model().cuda()\n",
        "target_model.load_state_dict(torch.load(\"mnist.pt\"))\n",
        "target_model.eval()\n",
        "test_data=datasets.MNIST(root='./mnist/', train=False, download=True,transform=transforms.ToTensor())\n",
        "test_loader = torch.utils.data.DataLoader(test_data,batch_size=1)"
      ]
    },
    {
      "cell_type": "markdown",
      "metadata": {
        "id": "xtHuG9eKexhh"
      },
      "source": [
        "## Inital Input data"
      ]
    },
    {
      "cell_type": "code",
      "execution_count": 6,
      "metadata": {
        "ExecuteTime": {
          "end_time": "2020-08-16T14:54:15.075320Z",
          "start_time": "2020-08-16T14:54:14.889375Z"
        },
        "colab": {
          "base_uri": "https://localhost:8080/",
          "height": 447
        },
        "id": "agDCi_4oexhh",
        "outputId": "8e860019-071a-4446-cb7f-2be7d0013d40"
      },
      "outputs": [
        {
          "output_type": "display_data",
          "data": {
            "text/plain": [
              "<Figure size 640x480 with 1 Axes>"
            ],
            "image/png": "[encoded data removed]"
          },
          "metadata": {}
        },
        {
          "output_type": "stream",
          "name": "stdout",
          "text": [
            "The pred result is  4\n"
          ]
        }
      ],
      "source": [
        "target_model.eval()\n",
        "test_img,test_label=test_data[8222]\n",
        "img = transforms.ToPILImage()(test_img).convert('RGB')\n",
        "plt.imshow(img)\n",
        "plt.show()\n",
        "inputimg=Variable(torch.unsqueeze(test_img, 0)).cuda()\n",
        "output = target_model(inputimg)\n",
        "print(\"The pred result is \",output.argmax(1, keepdim=True).item())"
      ]
    },
    {
      "cell_type": "markdown",
      "metadata": {
        "id": "ET9gldBnexhi"
      },
      "source": [
        "## CK Attack based on l2 attack"
      ]
    },
    {
      "cell_type": "code",
      "execution_count": 7,
      "metadata": {
        "ExecuteTime": {
          "end_time": "2020-08-16T15:48:27.134776Z",
          "start_time": "2020-08-16T15:48:27.093829Z"
        },
        "id": "a8hxuiK8exhi"
      },
      "outputs": [],
      "source": [
        "def loss1_func(w,x,d,c):\n",
        "    return torch.dist(x,(torch.tanh(w)*d+c),p=2)\n",
        "\n",
        "def f(output,tlab,target,k=0):\n",
        "    #f函数选用作者觉得最好的f6 f6(x)=max((max(Z(x')i)-Z(x')t),-k)\n",
        "    real= torch.max(output*tlab)\n",
        "    second=torch.max((1-tlab)*output)\n",
        "    #如果指定了对象，则让这个更接近，否则选择第二个较大的\n",
        "    if(target):\n",
        "        return torch.max(second - real, torch.Tensor([-k]).cuda())\n",
        "    else:\n",
        "        return torch.max(real - second, torch.Tensor([-k]).cuda())\n",
        "\n",
        "def cwattack_l2(img,model,right_label,iteration=1000,lr=0.001,target=False,target_label=0):\n",
        "    shape=(1,3,28,28)\n",
        "    binary_number=9                         #二分搜索\n",
        "    maxc=1e10                               #从0.01-100去找c\n",
        "    minc=0\n",
        "    c=1e-3                                   #from c = 0:01 to c = 100 on the MNIST dataset.\n",
        "    min_loss=1000000                         #找到最小的loss，即为方程的解\n",
        "    min_loss_img=img                         #扰动后的图片\n",
        "    k=0                                      #f函数使用，论文默认为0\n",
        "    b_min = 0                                #盒约束，论文中使用了0-1 代码中-0.5 0.5\n",
        "    b_max = 1\n",
        "    b_mul=(b_max-b_min)/2.0\n",
        "    b_plus=(b_min+b_max)/2.0\n",
        "    if(not target):\n",
        "        target_label=right_label\n",
        "    tlab=Variable(torch.from_numpy(np.eye(10)[target_label]).cuda().float())\n",
        "    for binary_index in range(binary_number):\n",
        "        print(\"------------Start {} search, current c is {}------------\".format(binary_index,c))\n",
        "\n",
        "        #将img转换为w，w=arctanh(2x-1)，作为原始图片\n",
        "        w = Variable(torch.from_numpy(np.arctanh((img.numpy()-b_plus)/b_mul*0.99999)).float()).cuda()\n",
        "\n",
        "        w_pert=Variable(torch.zeros_like(w).cuda().float())\n",
        "        w_pert.requires_grad = True\n",
        "        #最初图像x\n",
        "        x= Variable(img).cuda()\n",
        "        optimizer = optim.Adam([w_pert], lr=lr) #论文p3选用Adam\n",
        "        isSuccessfulAttack=False\n",
        "\n",
        "        for iteration_index in range(1,iteration+1):\n",
        "            optimizer.zero_grad()\n",
        "\n",
        "            # w加入扰动w_pert之后的新图像\n",
        "            img_new=torch.tanh(w_pert+w)*b_mul+b_plus  #0.5*tanh(w+pert)+0.5\n",
        "            loss_1=loss1_func(w,img_new,b_mul,b_plus)  #\\\\ deta\\\\  p=2\n",
        "            model.eval()\n",
        "            output=model(img_new)                      # Z(x)\n",
        "            loss_2=c*f(output,tlab,target)             # c*f(x+deta) , x+deta=img_new,\n",
        "            loss=loss_1+loss_2                         # Minimize loss=loss1+loss2\n",
        "            loss.backward(retain_graph=True)\n",
        "            optimizer.step()\n",
        "            if iteration_index%200==0:\n",
        "                 print('Iters: [{}/{}]\\tLoss: {},Loss1(L2 distance):{}, Loss2:{}'\n",
        "                       .format(iteration_index,iteration,loss.item(),loss_1.item(),loss_2.item()))\n",
        "\n",
        "            pred_result=output.argmax(1, keepdim=True).item()\n",
        "            #指定目标模式下,此处考虑l2距离最小,即找到最小的loss1\n",
        "            if(target):\n",
        "                if(min_loss>loss_1 and pred_result==target_label):\n",
        "                    flag=False\n",
        "                    for i in range(20):\n",
        "                        output=model(img_new)\n",
        "                        pred_result=output.argmax(1, keepdim=True).item()\n",
        "                        if(pred_result!=target_label):\n",
        "                            flag=True  #原模型中存在dropout，此处判断连续成功攻击20次，则视为有效\n",
        "                            break\n",
        "                    if(flag):\n",
        "                        continue\n",
        "                    min_loss=loss_1\n",
        "                    min_loss_img=img_new\n",
        "                    print('success when loss: {}, pred: {}'.format(min_loss,pred_result))\n",
        "                    isSuccessfulAttack=True\n",
        "             #非目标模式，找到最接近的一个,连续20次不预测成功\n",
        "            else:\n",
        "                if(min_loss>loss_1 and pred_result!=right_label):\n",
        "                    flag=False\n",
        "                    for i in range(50):\n",
        "                        output=model(img_new)\n",
        "                        pred_result=output.argmax(1, keepdim=True).item()\n",
        "                        if(pred_result==right_label):\n",
        "                            flag=True  #原模型中存在dropout，此处判断连续成功攻击50次，则视为有效\n",
        "                            break\n",
        "                    if(flag):\n",
        "                        continue\n",
        "                    min_loss=loss_1\n",
        "                    min_loss_img=img_new\n",
        "                    print('success when loss: {}, pred: {}'.format(min_loss,pred_result))\n",
        "                    isSuccessfulAttack=True\n",
        "        if(isSuccessfulAttack):\n",
        "            maxc=min(maxc,c)\n",
        "            if maxc<1e9:\n",
        "                c=(minc+maxc)/2\n",
        "        #攻击失败，尝试放大c\n",
        "        else:\n",
        "            minc=max(minc,c)\n",
        "            if(maxc<1e9):\n",
        "                c=(maxc+minc)/2\n",
        "            else:\n",
        "                c=c*10\n",
        "    return min_loss_img\n",
        ""
      ]
    },
    {
      "cell_type": "markdown",
      "metadata": {
        "id": "GNSsV4BEexhk"
      },
      "source": [
        "## Target Attack (Target label = 3)"
      ]
    },
    {
      "cell_type": "code",
      "execution_count": 8,
      "metadata": {
        "ExecuteTime": {
          "end_time": "2020-08-16T15:37:36.713437Z",
          "start_time": "2020-08-16T15:34:48.306437Z"
        },
        "colab": {
          "base_uri": "https://localhost:8080/"
        },
        "id": "59BYdkmSexhk",
        "outputId": "a60fa879-14a9-459f-fd94-410f73b2ddf2"
      },
      "outputs": [
        {
          "output_type": "stream",
          "name": "stdout",
          "text": [
            "Correct Label is  4\n",
            "------------Start 0 search, current c is 0.001------------\n",
            "Iters: [200/1000]\tLoss: 0.08801810443401337,Loss1(L2 distance):0.0016381205059587955, Loss2:0.08637998253107071\n",
            "Iters: [400/1000]\tLoss: 0.07928796112537384,Loss1(L2 distance):0.0022124494425952435, Loss2:0.07707551121711731\n",
            "Iters: [600/1000]\tLoss: 0.09063728153705597,Loss1(L2 distance):0.0013625134015455842, Loss2:0.08927477151155472\n",
            "Iters: [800/1000]\tLoss: 0.08891872316598892,Loss1(L2 distance):0.0014488623710349202, Loss2:0.08746986091136932\n",
            "Iters: [1000/1000]\tLoss: 0.10272736102342606,Loss1(L2 distance):0.0013206973671913147, Loss2:0.10140666365623474\n",
            "------------Start 1 search, current c is 0.01------------\n",
            "Iters: [200/1000]\tLoss: 1.3416922092437744,Loss1(L2 distance):0.0013896457385271788, Loss2:1.340302586555481\n",
            "Iters: [400/1000]\tLoss: 0.8143824934959412,Loss1(L2 distance):0.0015862415311858058, Loss2:0.8127962350845337\n",
            "Iters: [600/1000]\tLoss: 1.0268924236297607,Loss1(L2 distance):0.0014208881184458733, Loss2:1.025471568107605\n",
            "Iters: [800/1000]\tLoss: 1.0037734508514404,Loss1(L2 distance):0.0016162451356649399, Loss2:1.002157211303711\n",
            "Iters: [1000/1000]\tLoss: 0.8440987467765808,Loss1(L2 distance):0.0018052164232358336, Loss2:0.8422935009002686\n",
            "------------Start 2 search, current c is 0.1------------\n",
            "Iters: [200/1000]\tLoss: 3.6972463130950928,Loss1(L2 distance):2.9538025856018066, Loss2:0.7434436678886414\n",
            "Iters: [400/1000]\tLoss: 2.287010431289673,Loss1(L2 distance):2.215270519256592, Loss2:0.07173999398946762\n",
            "Iters: [600/1000]\tLoss: 2.1021158695220947,Loss1(L2 distance):1.9203743934631348, Loss2:0.18174146115779877\n",
            "Iters: [800/1000]\tLoss: 1.9790000915527344,Loss1(L2 distance):1.873506784439087, Loss2:0.10549329966306686\n",
            "Iters: [1000/1000]\tLoss: 1.8204939365386963,Loss1(L2 distance):1.7810301780700684, Loss2:0.03946371003985405\n",
            "------------Start 3 search, current c is 1.0------------\n",
            "Iters: [200/1000]\tLoss: 10.141580581665039,Loss1(L2 distance):3.833740234375, Loss2:6.307840347290039\n",
            "Iters: [400/1000]\tLoss: 5.160085678100586,Loss1(L2 distance):3.9372994899749756, Loss2:1.2227861881256104\n",
            "Iters: [600/1000]\tLoss: 3.993748903274536,Loss1(L2 distance):3.4934749603271484, Loss2:0.5002739429473877\n",
            "Iters: [800/1000]\tLoss: 3.1093909740448,Loss1(L2 distance):3.1093909740448, Loss2:0.0\n",
            "Iters: [1000/1000]\tLoss: 3.5378081798553467,Loss1(L2 distance):2.8616538047790527, Loss2:0.6761544346809387\n",
            "------------Start 4 search, current c is 10.0------------\n",
            "Iters: [200/1000]\tLoss: 72.66909790039062,Loss1(L2 distance):3.9352078437805176, Loss2:68.73388671875\n",
            "success when loss: 4.466594696044922, pred: 3\n",
            "Iters: [400/1000]\tLoss: 4.4812164306640625,Loss1(L2 distance):4.4812164306640625, Loss2:0.0\n",
            "success when loss: 4.466091632843018, pred: 3\n",
            "success when loss: 4.464146137237549, pred: 3\n",
            "success when loss: 4.463656902313232, pred: 3\n",
            "success when loss: 4.46346378326416, pred: 3\n",
            "success when loss: 4.463325500488281, pred: 3\n",
            "success when loss: 4.46315336227417, pred: 3\n",
            "success when loss: 4.462949275970459, pred: 3\n",
            "success when loss: 4.462714195251465, pred: 3\n",
            "success when loss: 4.462162494659424, pred: 3\n",
            "success when loss: 4.461848735809326, pred: 3\n",
            "success when loss: 4.461794376373291, pred: 3\n",
            "success when loss: 4.461079120635986, pred: 3\n",
            "success when loss: 4.460774898529053, pred: 3\n",
            "success when loss: 4.460444450378418, pred: 3\n",
            "success when loss: 4.459320068359375, pred: 3\n",
            "success when loss: 4.458479404449463, pred: 3\n",
            "success when loss: 4.458272457122803, pred: 3\n",
            "success when loss: 4.458012104034424, pred: 3\n",
            "success when loss: 4.457717418670654, pred: 3\n",
            "success when loss: 4.457391262054443, pred: 3\n",
            "success when loss: 4.4566545486450195, pred: 3\n",
            "success when loss: 4.455820083618164, pred: 3\n",
            "success when loss: 4.454904079437256, pred: 3\n",
            "success when loss: 4.4544196128845215, pred: 3\n",
            "success when loss: 4.453920364379883, pred: 3\n",
            "success when loss: 4.453407287597656, pred: 3\n",
            "success when loss: 4.452880859375, pred: 3\n",
            "success when loss: 4.452343463897705, pred: 3\n",
            "success when loss: 4.451239109039307, pred: 3\n",
            "success when loss: 4.450673580169678, pred: 3\n",
            "success when loss: 4.450099945068359, pred: 3\n",
            "success when loss: 4.449520111083984, pred: 3\n",
            "success when loss: 4.4489336013793945, pred: 3\n",
            "success when loss: 4.4483418464660645, pred: 3\n",
            "success when loss: 4.447744846343994, pred: 3\n",
            "success when loss: 4.447143077850342, pred: 3\n",
            "success when loss: 4.446537494659424, pred: 3\n",
            "success when loss: 4.445927619934082, pred: 3\n",
            "success when loss: 4.444766998291016, pred: 3\n",
            "Iters: [600/1000]\tLoss: 4.444211483001709,Loss1(L2 distance):4.444211483001709, Loss2:0.0\n",
            "success when loss: 4.44191837310791, pred: 3\n",
            "success when loss: 4.4413299560546875, pred: 3\n",
            "success when loss: 4.440736293792725, pred: 3\n",
            "success when loss: 4.44013786315918, pred: 3\n",
            "success when loss: 4.438928127288818, pred: 3\n",
            "success when loss: 4.43831729888916, pred: 3\n",
            "success when loss: 4.437703609466553, pred: 3\n",
            "success when loss: 4.437086582183838, pred: 3\n",
            "success when loss: 4.436466693878174, pred: 3\n",
            "success when loss: 4.4358439445495605, pred: 3\n",
            "success when loss: 4.4352192878723145, pred: 3\n",
            "success when loss: 4.434592247009277, pred: 3\n",
            "success when loss: 4.433963298797607, pred: 3\n",
            "success when loss: 4.433332920074463, pred: 3\n",
            "success when loss: 4.4327006340026855, pred: 3\n",
            "success when loss: 4.432066917419434, pred: 3\n",
            "success when loss: 4.431432247161865, pred: 3\n",
            "success when loss: 4.430796146392822, pred: 3\n",
            "success when loss: 4.428881645202637, pred: 3\n",
            "success when loss: 4.428241729736328, pred: 3\n",
            "success when loss: 4.427600860595703, pred: 3\n",
            "success when loss: 4.42695951461792, pred: 3\n",
            "success when loss: 4.42631721496582, pred: 3\n",
            "success when loss: 4.425674915313721, pred: 3\n",
            "success when loss: 4.4243879318237305, pred: 3\n",
            "success when loss: 4.423744201660156, pred: 3\n",
            "success when loss: 4.423099517822266, pred: 3\n",
            "success when loss: 4.421809673309326, pred: 3\n",
            "success when loss: 4.421163558959961, pred: 3\n",
            "success when loss: 4.420517444610596, pred: 3\n",
            "success when loss: 4.4198713302612305, pred: 3\n",
            "success when loss: 4.419224262237549, pred: 3\n",
            "success when loss: 4.418577671051025, pred: 3\n",
            "success when loss: 4.4179301261901855, pred: 3\n",
            "success when loss: 4.414690017700195, pred: 3\n",
            "success when loss: 4.413392066955566, pred: 3\n",
            "success when loss: 4.412742614746094, pred: 3\n",
            "success when loss: 4.412093162536621, pred: 3\n",
            "success when loss: 4.411443710327148, pred: 3\n",
            "success when loss: 4.410793781280518, pred: 3\n",
            "success when loss: 4.4101433753967285, pred: 3\n",
            "success when loss: 4.4094929695129395, pred: 3\n",
            "success when loss: 4.408191204071045, pred: 3\n",
            "success when loss: 4.40623664855957, pred: 3\n",
            "success when loss: 4.405584812164307, pred: 3\n",
            "success when loss: 4.404932022094727, pred: 3\n",
            "success when loss: 4.404280185699463, pred: 3\n",
            "success when loss: 4.403626918792725, pred: 3\n",
            "success when loss: 4.402973651885986, pred: 3\n",
            "success when loss: 4.402320384979248, pred: 3\n",
            "success when loss: 4.399704933166504, pred: 3\n",
            "success when loss: 4.399049758911133, pred: 3\n",
            "success when loss: 4.397739887237549, pred: 3\n",
            "success when loss: 4.39642858505249, pred: 3\n",
            "success when loss: 4.395115852355957, pred: 3\n",
            "success when loss: 4.394459247589111, pred: 3\n",
            "success when loss: 4.393144607543945, pred: 3\n",
            "success when loss: 4.392487049102783, pred: 3\n",
            "success when loss: 4.391829013824463, pred: 3\n",
            "success when loss: 4.391170978546143, pred: 3\n",
            "success when loss: 4.390512466430664, pred: 3\n",
            "success when loss: 4.389853477478027, pred: 3\n",
            "success when loss: 4.389194011688232, pred: 3\n",
            "success when loss: 4.3885345458984375, pred: 3\n",
            "success when loss: 4.387874126434326, pred: 3\n",
            "success when loss: 4.387214183807373, pred: 3\n",
            "success when loss: 4.3865532875061035, pred: 3\n",
            "success when loss: 4.385892391204834, pred: 3\n",
            "success when loss: 4.385231018066406, pred: 3\n",
            "success when loss: 4.3845696449279785, pred: 3\n",
            "success when loss: 4.383907318115234, pred: 3\n",
            "success when loss: 4.38324499130249, pred: 3\n",
            "success when loss: 4.3819193840026855, pred: 3\n",
            "success when loss: 4.381256103515625, pred: 3\n",
            "success when loss: 4.380591869354248, pred: 3\n",
            "success when loss: 4.379928112030029, pred: 3\n",
            "success when loss: 4.379263401031494, pred: 3\n",
            "success when loss: 4.377933025360107, pred: 3\n",
            "success when loss: 4.375790119171143, pred: 3\n",
            "success when loss: 4.374997615814209, pred: 3\n",
            "success when loss: 4.3742218017578125, pred: 3\n",
            "success when loss: 4.373459339141846, pred: 3\n",
            "success when loss: 4.372708320617676, pred: 3\n",
            "success when loss: 4.37196683883667, pred: 3\n",
            "success when loss: 4.37123441696167, pred: 3\n",
            "success when loss: 4.370508193969727, pred: 3\n",
            "success when loss: 4.36978816986084, pred: 3\n",
            "success when loss: 4.369073390960693, pred: 3\n",
            "success when loss: 4.3683624267578125, pred: 3\n",
            "success when loss: 4.3676557540893555, pred: 3\n",
            "success when loss: 4.365542888641357, pred: 3\n",
            "success when loss: 4.365471839904785, pred: 3\n",
            "success when loss: 4.365344047546387, pred: 3\n",
            "success when loss: 4.365163803100586, pred: 3\n",
            "success when loss: 4.364935398101807, pred: 3\n",
            "success when loss: 4.364663600921631, pred: 3\n",
            "success when loss: 4.364352226257324, pred: 3\n",
            "success when loss: 4.364004611968994, pred: 3\n",
            "success when loss: 4.36362361907959, pred: 3\n",
            "success when loss: 4.363213062286377, pred: 3\n",
            "success when loss: 4.36277437210083, pred: 3\n",
            "success when loss: 4.361826419830322, pred: 3\n",
            "success when loss: 4.3613200187683105, pred: 3\n",
            "success when loss: 4.360795974731445, pred: 3\n",
            "success when loss: 4.3596978187561035, pred: 3\n",
            "success when loss: 4.359127998352051, pred: 3\n",
            "success when loss: 4.357346057891846, pred: 3\n",
            "success when loss: 4.356732368469238, pred: 3\n",
            "success when loss: 4.356110572814941, pred: 3\n",
            "success when loss: 4.355480670928955, pred: 3\n",
            "success when loss: 4.354843616485596, pred: 3\n",
            "success when loss: 4.354200839996338, pred: 3\n",
            "success when loss: 4.353551864624023, pred: 3\n",
            "success when loss: 4.352898120880127, pred: 3\n",
            "success when loss: 4.35090970993042, pred: 3\n",
            "success when loss: 4.3495659828186035, pred: 3\n",
            "success when loss: 4.348210334777832, pred: 3\n",
            "success when loss: 4.34752893447876, pred: 3\n",
            "success when loss: 4.3468451499938965, pred: 3\n",
            "success when loss: 4.3461594581604, pred: 3\n",
            "success when loss: 4.345471382141113, pred: 3\n",
            "success when loss: 4.344090938568115, pred: 3\n",
            "success when loss: 4.343398571014404, pred: 3\n",
            "success when loss: 4.342396259307861, pred: 3\n",
            "success when loss: 4.342052459716797, pred: 3\n",
            "success when loss: 4.3416748046875, pred: 3\n",
            "success when loss: 4.341266632080078, pred: 3\n",
            "success when loss: 4.340830326080322, pred: 3\n",
            "success when loss: 4.340368270874023, pred: 3\n",
            "success when loss: 4.339373588562012, pred: 3\n",
            "success when loss: 4.338846206665039, pred: 3\n",
            "success when loss: 4.338299751281738, pred: 3\n",
            "success when loss: 4.337737083435059, pred: 3\n",
            "success when loss: 4.337158679962158, pred: 3\n",
            "success when loss: 4.336567401885986, pred: 3\n",
            "success when loss: 4.335963249206543, pred: 3\n",
            "success when loss: 4.334721565246582, pred: 3\n",
            "success when loss: 4.334085941314697, pred: 3\n",
            "success when loss: 4.332789897918701, pred: 3\n",
            "success when loss: 4.331466197967529, pred: 3\n",
            "success when loss: 4.3307952880859375, pred: 3\n",
            "success when loss: 4.329437255859375, pred: 3\n",
            "success when loss: 4.328062534332275, pred: 3\n",
            "success when loss: 4.326672554016113, pred: 3\n",
            "success when loss: 4.3259735107421875, pred: 3\n",
            "success when loss: 4.325271129608154, pred: 3\n",
            "success when loss: 4.32456636428833, pred: 3\n",
            "success when loss: 4.323859214782715, pred: 3\n",
            "success when loss: 4.3217267990112305, pred: 3\n",
            "success when loss: 4.321012020111084, pred: 3\n",
            "Iters: [800/1000]\tLoss: 4.320296287536621,Loss1(L2 distance):4.320296287536621, Loss2:0.0\n",
            "success when loss: 4.318140983581543, pred: 3\n",
            "success when loss: 4.31742000579834, pred: 3\n",
            "success when loss: 4.31669807434082, pred: 3\n",
            "success when loss: 4.31525182723999, pred: 3\n",
            "success when loss: 4.31452751159668, pred: 3\n",
            "success when loss: 4.313076019287109, pred: 3\n",
            "success when loss: 4.312349319458008, pred: 3\n",
            "success when loss: 4.310893535614014, pred: 3\n",
            "success when loss: 4.310164928436279, pred: 3\n",
            "success when loss: 4.309435844421387, pred: 3\n",
            "success when loss: 4.308705806732178, pred: 3\n",
            "success when loss: 4.307975769042969, pred: 3\n",
            "success when loss: 4.307244777679443, pred: 3\n",
            "success when loss: 4.305048942565918, pred: 3\n",
            "success when loss: 4.30431604385376, pred: 3\n",
            "success when loss: 4.303583145141602, pred: 3\n",
            "success when loss: 4.302114963531494, pred: 3\n",
            "success when loss: 4.301380634307861, pred: 3\n",
            "success when loss: 4.300645351409912, pred: 3\n",
            "success when loss: 4.298437595367432, pred: 3\n",
            "success when loss: 4.297601699829102, pred: 3\n",
            "success when loss: 4.297442436218262, pred: 3\n",
            "success when loss: 4.296962261199951, pred: 3\n",
            "success when loss: 4.296651363372803, pred: 3\n",
            "success when loss: 4.296298980712891, pred: 3\n",
            "success when loss: 4.295908451080322, pred: 3\n",
            "success when loss: 4.295483589172363, pred: 3\n",
            "success when loss: 4.295027732849121, pred: 3\n",
            "success when loss: 4.294543266296387, pred: 3\n",
            "success when loss: 4.29349946975708, pred: 3\n",
            "success when loss: 4.29294490814209, pred: 3\n",
            "success when loss: 4.29237174987793, pred: 3\n",
            "success when loss: 4.291780471801758, pred: 3\n",
            "success when loss: 4.290553092956543, pred: 3\n",
            "success when loss: 4.290097236633301, pred: 3\n",
            "success when loss: 4.28931999206543, pred: 3\n",
            "success when loss: 4.288540840148926, pred: 3\n",
            "success when loss: 4.287758827209473, pred: 3\n",
            "success when loss: 4.286975860595703, pred: 3\n",
            "success when loss: 4.283828258514404, pred: 3\n",
            "success when loss: 4.283038139343262, pred: 3\n",
            "success when loss: 4.282247066497803, pred: 3\n",
            "success when loss: 4.281454563140869, pred: 3\n",
            "success when loss: 4.280661582946777, pred: 3\n",
            "success when loss: 4.279867649078369, pred: 3\n",
            "success when loss: 4.2790727615356445, pred: 3\n",
            "success when loss: 4.278277397155762, pred: 3\n",
            "success when loss: 4.276684284210205, pred: 3\n",
            "success when loss: 4.275290012359619, pred: 3\n",
            "success when loss: 4.2748918533325195, pred: 3\n",
            "success when loss: 4.274746894836426, pred: 3\n",
            "success when loss: 4.274512767791748, pred: 3\n",
            "success when loss: 4.274227142333984, pred: 3\n",
            "success when loss: 4.273893356323242, pred: 3\n",
            "success when loss: 4.273095607757568, pred: 3\n",
            "success when loss: 4.272637844085693, pred: 3\n",
            "success when loss: 4.2721452713012695, pred: 3\n",
            "success when loss: 4.271620273590088, pred: 3\n",
            "success when loss: 4.271065711975098, pred: 3\n",
            "success when loss: 4.27048397064209, pred: 3\n",
            "success when loss: 4.269877910614014, pred: 3\n",
            "success when loss: 4.269248962402344, pred: 3\n",
            "success when loss: 4.268599510192871, pred: 3\n",
            "success when loss: 4.2679314613342285, pred: 3\n",
            "success when loss: 4.267246246337891, pred: 3\n",
            "success when loss: 4.265830993652344, pred: 3\n",
            "success when loss: 4.265103816986084, pred: 3\n",
            "success when loss: 4.264364719390869, pred: 3\n",
            "success when loss: 4.263615608215332, pred: 3\n",
            "success when loss: 4.262089252471924, pred: 3\n",
            "success when loss: 4.261314392089844, pred: 3\n",
            "success when loss: 4.260531902313232, pred: 3\n",
            "success when loss: 4.259743690490723, pred: 3\n",
            "success when loss: 4.2589497566223145, pred: 3\n",
            "success when loss: 4.258150100708008, pred: 3\n",
            "success when loss: 4.2573466300964355, pred: 3\n",
            "success when loss: 4.256538391113281, pred: 3\n",
            "success when loss: 4.255726337432861, pred: 3\n",
            "success when loss: 4.254092216491699, pred: 3\n",
            "success when loss: 4.253270626068115, pred: 3\n",
            "success when loss: 4.252447128295898, pred: 3\n",
            "success when loss: 4.251620769500732, pred: 3\n",
            "success when loss: 4.249962329864502, pred: 3\n",
            "success when loss: 4.2491302490234375, pred: 3\n",
            "success when loss: 4.248296737670898, pred: 3\n",
            "success when loss: 4.247461795806885, pred: 3\n",
            "success when loss: 4.2466254234313965, pred: 3\n",
            "success when loss: 4.245788097381592, pred: 3\n",
            "success when loss: 4.244949817657471, pred: 3\n",
            "success when loss: 4.244110584259033, pred: 3\n",
            "success when loss: 4.242429256439209, pred: 3\n",
            "success when loss: 4.240205764770508, pred: 3\n",
            "success when loss: 4.238768100738525, pred: 3\n",
            "success when loss: 4.238031387329102, pred: 3\n",
            "success when loss: 4.236526966094971, pred: 3\n",
            "success when loss: 4.235760688781738, pred: 3\n",
            "success when loss: 4.234986305236816, pred: 3\n",
            "success when loss: 4.2342047691345215, pred: 3\n",
            "success when loss: 4.2334160804748535, pred: 3\n",
            "success when loss: 4.232621669769287, pred: 3\n",
            "success when loss: 4.231015682220459, pred: 3\n",
            "success when loss: 4.23020601272583, pred: 3\n",
            "success when loss: 4.228573799133301, pred: 3\n",
            "success when loss: 4.226927280426025, pred: 3\n",
            "success when loss: 4.226099967956543, pred: 3\n",
            "Iters: [1000/1000]\tLoss: 4.225269794464111,Loss1(L2 distance):4.225269794464111, Loss2:0.0\n",
            "success when loss: 4.225269794464111, pred: 3\n",
            "------------Start 5 search, current c is 5.5------------\n",
            "Iters: [200/1000]\tLoss: 26.27939796447754,Loss1(L2 distance):4.034459590911865, Loss2:22.244937896728516\n",
            "Iters: [400/1000]\tLoss: 4.357264041900635,Loss1(L2 distance):4.357264041900635, Loss2:0.0\n",
            "success when loss: 4.223442077636719, pred: 3\n",
            "success when loss: 4.2224860191345215, pred: 3\n",
            "success when loss: 4.221529960632324, pred: 3\n",
            "success when loss: 4.2205729484558105, pred: 3\n",
            "success when loss: 4.218656539916992, pred: 3\n",
            "success when loss: 4.2176971435546875, pred: 3\n",
            "success when loss: 4.216737747192383, pred: 3\n",
            "success when loss: 4.215777397155762, pred: 3\n",
            "success when loss: 4.212891578674316, pred: 3\n",
            "success when loss: 4.211928367614746, pred: 3\n",
            "success when loss: 4.210964202880859, pred: 3\n",
            "Iters: [600/1000]\tLoss: 4.2099995613098145,Loss1(L2 distance):4.2099995613098145, Loss2:0.0\n",
            "success when loss: 4.2099995613098145, pred: 3\n",
            "success when loss: 4.209034442901611, pred: 3\n",
            "success when loss: 4.208067893981934, pred: 3\n",
            "success when loss: 4.206133842468262, pred: 3\n",
            "success when loss: 4.204196929931641, pred: 3\n",
            "success when loss: 4.2032270431518555, pred: 3\n",
            "success when loss: 4.202256679534912, pred: 3\n",
            "success when loss: 4.200314044952393, pred: 3\n",
            "success when loss: 4.199342250823975, pred: 3\n",
            "success when loss: 4.198369026184082, pred: 3\n",
            "success when loss: 4.197395324707031, pred: 3\n",
            "success when loss: 4.196420669555664, pred: 3\n",
            "success when loss: 4.195445537567139, pred: 3\n",
            "success when loss: 4.194469928741455, pred: 3\n",
            "success when loss: 4.192516326904297, pred: 3\n",
            "success when loss: 4.1905598640441895, pred: 3\n",
            "success when loss: 4.18958044052124, pred: 3\n",
            "success when loss: 4.187620162963867, pred: 3\n",
            "success when loss: 4.186638832092285, pred: 3\n",
            "success when loss: 4.185656547546387, pred: 3\n",
            "success when loss: 4.183691024780273, pred: 3\n",
            "success when loss: 4.182706832885742, pred: 3\n",
            "success when loss: 4.182253360748291, pred: 3\n",
            "success when loss: 4.180392742156982, pred: 3\n",
            "success when loss: 4.179442882537842, pred: 3\n",
            "success when loss: 4.17848014831543, pred: 3\n",
            "success when loss: 4.177506923675537, pred: 3\n",
            "success when loss: 4.176523685455322, pred: 3\n",
            "success when loss: 4.175531387329102, pred: 3\n",
            "success when loss: 4.17453145980835, pred: 3\n",
            "success when loss: 4.173523426055908, pred: 3\n",
            "success when loss: 4.1714887619018555, pred: 3\n",
            "success when loss: 4.170462608337402, pred: 3\n",
            "success when loss: 4.169431686401367, pred: 3\n",
            "success when loss: 4.168395519256592, pred: 3\n",
            "success when loss: 4.167355537414551, pred: 3\n",
            "success when loss: 4.166311740875244, pred: 3\n",
            "success when loss: 4.16526460647583, pred: 3\n",
            "success when loss: 4.16421365737915, pred: 3\n",
            "success when loss: 4.1631598472595215, pred: 3\n",
            "success when loss: 4.162103652954102, pred: 3\n",
            "success when loss: 4.161044597625732, pred: 3\n",
            "success when loss: 4.1599836349487305, pred: 3\n",
            "success when loss: 4.158919811248779, pred: 3\n",
            "success when loss: 4.1578545570373535, pred: 3\n",
            "success when loss: 4.156786918640137, pred: 3\n",
            "success when loss: 4.155717849731445, pred: 3\n",
            "success when loss: 4.154647350311279, pred: 3\n",
            "success when loss: 4.1535749435424805, pred: 3\n",
            "success when loss: 4.152501106262207, pred: 3\n",
            "success when loss: 4.151425838470459, pred: 3\n",
            "success when loss: 4.1503496170043945, pred: 3\n",
            "success when loss: 4.149272441864014, pred: 3\n",
            "success when loss: 4.147114276885986, pred: 3\n",
            "success when loss: 4.144951343536377, pred: 3\n",
            "success when loss: 4.143868446350098, pred: 3\n",
            "success when loss: 4.142784595489502, pred: 3\n",
            "success when loss: 4.14169979095459, pred: 3\n",
            "success when loss: 4.140614986419678, pred: 3\n",
            "success when loss: 4.137353420257568, pred: 3\n",
            "success when loss: 4.136264801025391, pred: 3\n",
            "success when loss: 4.135175704956055, pred: 3\n",
            "success when loss: 4.134085655212402, pred: 3\n",
            "success when loss: 4.132994651794434, pred: 3\n",
            "success when loss: 4.131903171539307, pred: 3\n",
            "success when loss: 4.12971830368042, pred: 3\n",
            "success when loss: 4.127530097961426, pred: 3\n",
            "success when loss: 4.125340461730957, pred: 3\n",
            "success when loss: 4.124244213104248, pred: 3\n",
            "success when loss: 4.120952129364014, pred: 3\n",
            "success when loss: 4.119853496551514, pred: 3\n",
            "success when loss: 4.1187543869018555, pred: 3\n",
            "success when loss: 4.115453243255615, pred: 3\n",
            "success when loss: 4.114351272583008, pred: 3\n",
            "success when loss: 4.1132493019104, pred: 3\n",
            "success when loss: 4.112146377563477, pred: 3\n",
            "success when loss: 4.1110429763793945, pred: 3\n",
            "success when loss: 4.108834743499756, pred: 3\n",
            "success when loss: 4.106623649597168, pred: 3\n",
            "success when loss: 4.1055169105529785, pred: 3\n",
            "success when loss: 4.104410171508789, pred: 3\n",
            "success when loss: 4.103455066680908, pred: 3\n",
            "success when loss: 4.103370666503906, pred: 3\n",
            "success when loss: 4.103191375732422, pred: 3\n",
            "success when loss: 4.10292387008667, pred: 3\n",
            "success when loss: 4.102576732635498, pred: 3\n",
            "success when loss: 4.102156162261963, pred: 3\n",
            "success when loss: 4.101668834686279, pred: 3\n",
            "success when loss: 4.101120471954346, pred: 3\n",
            "success when loss: 4.100517272949219, pred: 3\n",
            "success when loss: 4.0998640060424805, pred: 3\n",
            "success when loss: 4.099164009094238, pred: 3\n",
            "success when loss: 4.098423004150391, pred: 3\n",
            "success when loss: 4.0976433753967285, pred: 3\n",
            "success when loss: 4.096830368041992, pred: 3\n",
            "success when loss: 4.0959858894348145, pred: 3\n",
            "success when loss: 4.094214916229248, pred: 3\n",
            "success when loss: 4.0932936668396, pred: 3\n",
            "success when loss: 4.092351913452148, pred: 3\n",
            "success when loss: 4.091390609741211, pred: 3\n",
            "success when loss: 4.090412139892578, pred: 3\n",
            "success when loss: 4.088410377502441, pred: 3\n",
            "Iters: [800/1000]\tLoss: 4.08738899230957,Loss1(L2 distance):4.08738899230957, Loss2:0.0\n",
            "success when loss: 4.08738899230957, pred: 3\n",
            "success when loss: 4.0863566398620605, pred: 3\n",
            "success when loss: 4.08531379699707, pred: 3\n",
            "success when loss: 4.084261417388916, pred: 3\n",
            "success when loss: 4.083199977874756, pred: 3\n",
            "success when loss: 4.0821309089660645, pred: 3\n",
            "success when loss: 4.081055164337158, pred: 3\n",
            "success when loss: 4.079972267150879, pred: 3\n",
            "success when loss: 4.078884124755859, pred: 3\n",
            "success when loss: 4.076691150665283, pred: 3\n",
            "success when loss: 4.075587749481201, pred: 3\n",
            "success when loss: 4.0744805335998535, pred: 3\n",
            "success when loss: 4.07336950302124, pred: 3\n",
            "success when loss: 4.0722551345825195, pred: 3\n",
            "success when loss: 4.07113790512085, pred: 3\n",
            "success when loss: 4.070017337799072, pred: 3\n",
            "success when loss: 4.068894386291504, pred: 3\n",
            "success when loss: 4.0677690505981445, pred: 3\n",
            "success when loss: 4.065511703491211, pred: 3\n",
            "success when loss: 4.064380168914795, pred: 3\n",
            "success when loss: 4.063246726989746, pred: 3\n",
            "success when loss: 4.062111854553223, pred: 3\n",
            "success when loss: 4.060975551605225, pred: 3\n",
            "success when loss: 4.059837341308594, pred: 3\n",
            "success when loss: 4.0586981773376465, pred: 3\n",
            "success when loss: 4.057558059692383, pred: 3\n",
            "success when loss: 4.056416034698486, pred: 3\n",
            "success when loss: 4.055273056030273, pred: 3\n",
            "success when loss: 4.054129123687744, pred: 3\n",
            "success when loss: 4.052984237670898, pred: 3\n",
            "success when loss: 4.0518388748168945, pred: 3\n",
            "success when loss: 4.050691604614258, pred: 3\n",
            "success when loss: 4.049544334411621, pred: 3\n",
            "success when loss: 4.048396110534668, pred: 3\n",
            "success when loss: 4.047246932983398, pred: 3\n",
            "success when loss: 4.0460968017578125, pred: 3\n",
            "success when loss: 4.044946193695068, pred: 3\n",
            "success when loss: 4.043794631958008, pred: 3\n",
            "success when loss: 4.042642593383789, pred: 3\n",
            "success when loss: 4.041490077972412, pred: 3\n",
            "success when loss: 4.0403361320495605, pred: 3\n",
            "success when loss: 4.039182662963867, pred: 3\n",
            "success when loss: 4.038027763366699, pred: 3\n",
            "success when loss: 4.036872863769531, pred: 3\n",
            "success when loss: 4.034560203552246, pred: 3\n",
            "success when loss: 4.033403396606445, pred: 3\n",
            "success when loss: 4.032245635986328, pred: 3\n",
            "success when loss: 4.031087398529053, pred: 3\n",
            "success when loss: 4.028769493103027, pred: 3\n",
            "success when loss: 4.027609348297119, pred: 3\n",
            "success when loss: 4.026449203491211, pred: 3\n",
            "success when loss: 4.025288105010986, pred: 3\n",
            "success when loss: 4.0241265296936035, pred: 3\n",
            "success when loss: 4.021801948547363, pred: 3\n",
            "success when loss: 4.020638942718506, pred: 3\n",
            "success when loss: 4.019475936889648, pred: 3\n",
            "success when loss: 4.018311977386475, pred: 3\n",
            "success when loss: 4.017147064208984, pred: 3\n",
            "success when loss: 4.015982151031494, pred: 3\n",
            "success when loss: 4.013650894165039, pred: 3\n",
            "success when loss: 4.011316776275635, pred: 3\n",
            "success when loss: 4.0101494789123535, pred: 3\n",
            "success when loss: 4.007812976837158, pred: 3\n",
            "success when loss: 4.006643772125244, pred: 3\n",
            "success when loss: 4.00547456741333, pred: 3\n",
            "success when loss: 4.001963138580322, pred: 3\n",
            "success when loss: 4.000791549682617, pred: 3\n",
            "success when loss: 3.9984474182128906, pred: 3\n",
            "success when loss: 3.997274398803711, pred: 3\n",
            "success when loss: 3.993752956390381, pred: 3\n",
            "success when loss: 3.9914028644561768, pred: 3\n",
            "success when loss: 3.990226984024048, pred: 3\n",
            "success when loss: 3.9890506267547607, pred: 3\n",
            "success when loss: 3.9878740310668945, pred: 3\n",
            "success when loss: 3.98669695854187, pred: 3\n",
            "success when loss: 3.9855194091796875, pred: 3\n",
            "success when loss: 3.9843411445617676, pred: 3\n",
            "success when loss: 3.9831626415252686, pred: 3\n",
            "success when loss: 3.9819836616516113, pred: 3\n",
            "success when loss: 3.980803966522217, pred: 3\n",
            "success when loss: 3.979624032974243, pred: 3\n",
            "success when loss: 3.9784436225891113, pred: 3\n",
            "success when loss: 3.9772627353668213, pred: 3\n",
            "success when loss: 3.9748995304107666, pred: 3\n",
            "success when loss: 3.9725341796875, pred: 3\n",
            "success when loss: 3.9642419815063477, pred: 3\n",
            "success when loss: 3.963055372238159, pred: 3\n",
            "success when loss: 3.9594931602478027, pred: 3\n",
            "success when loss: 3.9547371864318848, pred: 3\n",
            "success when loss: 3.9511656761169434, pred: 3\n",
            "success when loss: 3.948782205581665, pred: 3\n",
            "success when loss: 3.947589874267578, pred: 3\n",
            "success when loss: 3.9404258728027344, pred: 3\n",
            "success when loss: 3.939230442047119, pred: 3\n",
            "success when loss: 3.9380345344543457, pred: 3\n",
            "success when loss: 3.936838150024414, pred: 3\n",
            "success when loss: 3.935641288757324, pred: 3\n",
            "success when loss: 3.934443950653076, pred: 3\n",
            "success when loss: 3.92965030670166, pred: 3\n",
            "success when loss: 3.9260506629943848, pred: 3\n",
            "success when loss: 3.9236485958099365, pred: 3\n",
            "success when loss: 3.9188389778137207, pred: 3\n",
            "Iters: [1000/1000]\tLoss: 3.9968130588531494,Loss1(L2 distance):3.9968130588531494, Loss2:0.0\n",
            "------------Start 6 search, current c is 3.25------------\n",
            "Iters: [200/1000]\tLoss: 8.045671463012695,Loss1(L2 distance):3.9272396564483643, Loss2:4.118431568145752\n",
            "Iters: [400/1000]\tLoss: 6.236903190612793,Loss1(L2 distance):4.286258220672607, Loss2:1.9506447315216064\n",
            "Iters: [600/1000]\tLoss: 5.41206693649292,Loss1(L2 distance):4.149803161621094, Loss2:1.2622637748718262\n",
            "Iters: [800/1000]\tLoss: 3.9978058338165283,Loss1(L2 distance):3.9978058338165283, Loss2:0.0\n",
            "Iters: [1000/1000]\tLoss: 5.856106758117676,Loss1(L2 distance):3.7745351791381836, Loss2:2.0815718173980713\n",
            "------------Start 7 search, current c is 4.375------------\n",
            "Iters: [200/1000]\tLoss: 27.41989517211914,Loss1(L2 distance):4.052644729614258, Loss2:23.367250442504883\n",
            "Iters: [400/1000]\tLoss: 6.784972190856934,Loss1(L2 distance):4.450043678283691, Loss2:2.334928512573242\n",
            "Iters: [600/1000]\tLoss: 4.374279499053955,Loss1(L2 distance):4.374279499053955, Loss2:0.0\n",
            "Iters: [800/1000]\tLoss: 4.211557388305664,Loss1(L2 distance):4.211557388305664, Loss2:0.0\n",
            "Iters: [1000/1000]\tLoss: 4.042040824890137,Loss1(L2 distance):4.042040824890137, Loss2:0.0\n",
            "------------Start 8 search, current c is 4.9375------------\n",
            "Iters: [200/1000]\tLoss: 21.81867790222168,Loss1(L2 distance):3.940897226333618, Loss2:17.87778091430664\n",
            "Iters: [400/1000]\tLoss: 8.31125259399414,Loss1(L2 distance):4.363417625427246, Loss2:3.9478354454040527\n",
            "Iters: [600/1000]\tLoss: 6.020601749420166,Loss1(L2 distance):4.317870616912842, Loss2:1.7027310132980347\n",
            "Iters: [800/1000]\tLoss: 4.1563310623168945,Loss1(L2 distance):4.1563310623168945, Loss2:0.0\n",
            "Iters: [1000/1000]\tLoss: 3.9852616786956787,Loss1(L2 distance):3.9852616786956787, Loss2:0.0\n"
          ]
        }
      ],
      "source": [
        "victim_img=test_img\n",
        "victim_label=test_label\n",
        "print(\"Correct Label is \",victim_label)\n",
        "victim_img_input = torch.unsqueeze(victim_img, 0)\n",
        "attack_img = cwattack_l2(victim_img_input,target_model,victim_label,\n",
        "                         iteration=1000,lr=0.01,target=True,target_label=3)"
      ]
    },
    {
      "cell_type": "markdown",
      "metadata": {
        "ExecuteTime": {
          "end_time": "2020-08-16T14:49:19.871705Z",
          "start_time": "2020-08-16T14:49:19.835751Z"
        },
        "id": "ABBQ77bfexhl"
      },
      "source": [
        "## Attack Visualization"
      ]
    },
    {
      "cell_type": "code",
      "execution_count": 9,
      "metadata": {
        "ExecuteTime": {
          "end_time": "2020-08-16T15:37:42.037732Z",
          "start_time": "2020-08-16T15:37:42.027785Z"
        },
        "id": "UAkp1WH6exhl"
      },
      "outputs": [],
      "source": [
        "from tqdm import tqdm\n",
        "def show3(ori,adv):\n",
        "    plt.figure()\n",
        "    plt.subplot(131)\n",
        "    plt.title('Input Image')\n",
        "    img1 = transforms.ToPILImage()(ori).convert('RGB')\n",
        "    plt.imshow(img1)\n",
        "    plt.subplot(132)\n",
        "    plt.title('Adversarial Image')\n",
        "    img2 =torch.tensor(adv).cpu()\n",
        "    img2=torchvision.utils.make_grid(img2, normalize=True)\n",
        "    Pert=img2-ori\n",
        "    img2 = transforms.ToPILImage()(img2).convert('RGB')\n",
        "    Pert = transforms.ToPILImage()(Pert).convert('RGB')\n",
        "    plt.imshow(img2)\n",
        "    plt.subplot(133)\n",
        "    plt.title('Perturbation')\n",
        "    plt.imshow(Pert)\n",
        "    plt.show()\n"
      ]
    },
    {
      "cell_type": "code",
      "source": [
        "show3(victim_img,attack_img)"
      ],
      "metadata": {
        "colab": {
          "base_uri": "https://localhost:8080/",
          "height": 283
        },
        "id": "8FtVAeIxghb_",
        "outputId": "145b9583-db8a-4066-b4d8-8871ad85c256"
      },
      "execution_count": 10,
      "outputs": [
        {
          "output_type": "stream",
          "name": "stderr",
          "text": [
            "<ipython-input-9-0654f5ace7fd>:10: UserWarning: To copy construct from a tensor, it is recommended to use sourceTensor.clone().detach() or sourceTensor.clone().detach().requires_grad_(True), rather than torch.tensor(sourceTensor).\n",
            "  img2 =torch.tensor(adv).cpu()\n"
          ]
        },
        {
          "output_type": "display_data",
          "data": {
            "text/plain": [
              "<Figure size 640x480 with 3 Axes>"
            ],
            "image/png": "[encoded data removed]"
          },
          "metadata": {}
        }
      ]
    },
    {
      "cell_type": "code",
      "source": [
        "target_model.eval()\n",
        "output = target_model(attack_img)\n",
        "print(\"The pred result is \",output.argmax(1, keepdim=True).item())"
      ],
      "metadata": {
        "colab": {
          "base_uri": "https://localhost:8080/"
        },
        "id": "eMCXK7fEgoQA",
        "outputId": "ef93a0a6-8136-4db1-c68b-3379041590f7"
      },
      "execution_count": 11,
      "outputs": [
        {
          "output_type": "stream",
          "name": "stdout",
          "text": [
            "The pred result is  3\n"
          ]
        }
      ]
    },
    {
      "cell_type": "markdown",
      "metadata": {
        "id": "GHZQnXP3exhl"
      },
      "source": [
        "### Repeat 30 times (93.33% that the target model will predict the adversarial instance as 3!!!)"
      ]
    },
    {
      "cell_type": "code",
      "execution_count": 12,
      "metadata": {
        "ExecuteTime": {
          "end_time": "2020-08-16T15:37:48.773728Z",
          "start_time": "2020-08-16T15:37:43.137729Z"
        },
        "colab": {
          "base_uri": "https://localhost:8080/"
        },
        "id": "-CoMr8Ikexhl",
        "outputId": "7af2f2c7-7c0d-4534-a302-d22f0be6f2ec"
      },
      "outputs": [
        {
          "output_type": "stream",
          "name": "stderr",
          "text": [
            "100%|██████████| 30/30 [00:00<00:00, 1072.10it/s]"
          ]
        },
        {
          "output_type": "stream",
          "name": "stdout",
          "text": [
            "accuracy : 0.9333333333333333\n"
          ]
        },
        {
          "output_type": "stream",
          "name": "stderr",
          "text": [
            "\n"
          ]
        }
      ],
      "source": [
        "sum_accuracy=0\n",
        "\n",
        "for i in tqdm(range(30)):\n",
        "    output = target_model(attack_img)\n",
        "    if(output.argmax(1, keepdim=True).item()==3):\n",
        "        sum_accuracy+=1\n",
        "print(\"accuracy :\",sum_accuracy*1.0/30)"
      ]
    },
    {
      "cell_type": "markdown",
      "metadata": {
        "id": "TaaPB0vvexhm"
      },
      "source": [
        "## Untarget Attack"
      ]
    },
    {
      "cell_type": "code",
      "execution_count": 13,
      "metadata": {
        "ExecuteTime": {
          "end_time": "2020-08-16T15:50:59.206020Z",
          "start_time": "2020-08-16T15:48:32.508041Z"
        },
        "colab": {
          "base_uri": "https://localhost:8080/"
        },
        "id": "dxyoOnbgexhm",
        "outputId": "d2a5b68c-bd42-4329-d699-9425fb9d5136"
      },
      "outputs": [
        {
          "output_type": "stream",
          "name": "stdout",
          "text": [
            "Correct Label is  0\n",
            "------------Start 0 search, current c is 0.001------------\n",
            "Iters: [200/1000]\tLoss: 0.029667051509022713,Loss1(L2 distance):0.0015749933663755655, Loss2:0.02809205837547779\n",
            "Iters: [400/1000]\tLoss: 0.03645845502614975,Loss1(L2 distance):0.0015353546477854252, Loss2:0.03492309898138046\n",
            "Iters: [600/1000]\tLoss: 0.04419839009642601,Loss1(L2 distance):0.001767539419233799, Loss2:0.042430851608514786\n",
            "Iters: [800/1000]\tLoss: 0.032690778374671936,Loss1(L2 distance):0.0012530522653833032, Loss2:0.03143772482872009\n",
            "Iters: [1000/1000]\tLoss: 0.02773362398147583,Loss1(L2 distance):0.001126161776483059, Loss2:0.026607463136315346\n",
            "------------Start 1 search, current c is 0.01------------\n",
            "Iters: [200/1000]\tLoss: 0.3451516032218933,Loss1(L2 distance):0.0014725941000506282, Loss2:0.3436790108680725\n",
            "Iters: [400/1000]\tLoss: 0.35310912132263184,Loss1(L2 distance):0.0013357995776459575, Loss2:0.35177332162857056\n",
            "Iters: [600/1000]\tLoss: 0.3954460620880127,Loss1(L2 distance):0.0014542777789756656, Loss2:0.3939917981624603\n",
            "Iters: [800/1000]\tLoss: 0.20074088871479034,Loss1(L2 distance):0.0016143072862178087, Loss2:0.19912658631801605\n",
            "Iters: [1000/1000]\tLoss: 0.3617090582847595,Loss1(L2 distance):0.0021707923151552677, Loss2:0.3595382571220398\n",
            "------------Start 2 search, current c is 0.1------------\n",
            "Iters: [200/1000]\tLoss: 2.676539421081543,Loss1(L2 distance):1.3875555992126465, Loss2:1.288983702659607\n",
            "Iters: [400/1000]\tLoss: 1.8065011501312256,Loss1(L2 distance):1.5171254873275757, Loss2:0.2893756926059723\n",
            "Iters: [600/1000]\tLoss: 1.4360262155532837,Loss1(L2 distance):1.4360262155532837, Loss2:0.0\n",
            "Iters: [800/1000]\tLoss: 1.7549540996551514,Loss1(L2 distance):1.4524091482162476, Loss2:0.3025449216365814\n",
            "Iters: [1000/1000]\tLoss: 2.382815361022949,Loss1(L2 distance):1.492388129234314, Loss2:0.8904271125793457\n",
            "------------Start 3 search, current c is 1.0------------\n",
            "Iters: [200/1000]\tLoss: 2.731673002243042,Loss1(L2 distance):2.731673002243042, Loss2:0.0\n",
            "success when loss: 2.8431451320648193, pred: 2\n",
            "success when loss: 2.8149752616882324, pred: 2\n",
            "success when loss: 2.7712912559509277, pred: 3\n",
            "success when loss: 2.7515370845794678, pred: 2\n",
            "Iters: [400/1000]\tLoss: 2.7522499561309814,Loss1(L2 distance):2.7522499561309814, Loss2:0.0\n",
            "success when loss: 2.746927499771118, pred: 2\n",
            "success when loss: 2.7242727279663086, pred: 2\n",
            "success when loss: 2.7183408737182617, pred: 2\n",
            "success when loss: 2.5570321083068848, pred: 2\n",
            "Iters: [600/1000]\tLoss: 2.360490322113037,Loss1(L2 distance):2.360490322113037, Loss2:0.0\n",
            "success when loss: 2.3433845043182373, pred: 2\n",
            "success when loss: 2.3143086433410645, pred: 3\n",
            "success when loss: 2.248185157775879, pred: 2\n",
            "success when loss: 2.2225704193115234, pred: 2\n",
            "success when loss: 2.1968095302581787, pred: 2\n",
            "success when loss: 2.186034679412842, pred: 2\n",
            "success when loss: 2.1260924339294434, pred: 2\n",
            "Iters: [800/1000]\tLoss: 2.16960072517395,Loss1(L2 distance):2.16960072517395, Loss2:0.0\n",
            "success when loss: 2.115950584411621, pred: 2\n",
            "success when loss: 2.011988401412964, pred: 2\n",
            "success when loss: 2.011789560317993, pred: 2\n",
            "success when loss: 1.982656717300415, pred: 2\n",
            "Iters: [1000/1000]\tLoss: 2.127810001373291,Loss1(L2 distance):2.127810001373291, Loss2:0.0\n",
            "------------Start 4 search, current c is 0.55------------\n",
            "Iters: [200/1000]\tLoss: 2.522162675857544,Loss1(L2 distance):2.522162675857544, Loss2:0.0\n",
            "Iters: [400/1000]\tLoss: 2.371863603591919,Loss1(L2 distance):2.371863603591919, Loss2:0.0\n",
            "Iters: [600/1000]\tLoss: 2.1745636463165283,Loss1(L2 distance):2.1745636463165283, Loss2:0.0\n",
            "Iters: [800/1000]\tLoss: 1.855792760848999,Loss1(L2 distance):1.855792760848999, Loss2:0.0\n",
            "success when loss: 1.921989917755127, pred: 2\n",
            "success when loss: 1.8683096170425415, pred: 2\n",
            "Iters: [1000/1000]\tLoss: 1.916709542274475,Loss1(L2 distance):1.804524540901184, Loss2:0.1121850535273552\n",
            "------------Start 5 search, current c is 0.325------------\n",
            "Iters: [200/1000]\tLoss: 2.881398916244507,Loss1(L2 distance):2.2951974868774414, Loss2:0.5862013697624207\n",
            "Iters: [400/1000]\tLoss: 2.0812649726867676,Loss1(L2 distance):2.0812649726867676, Loss2:0.0\n",
            "Iters: [600/1000]\tLoss: 1.8192813396453857,Loss1(L2 distance):1.8192813396453857, Loss2:0.0\n",
            "Iters: [800/1000]\tLoss: 1.7776094675064087,Loss1(L2 distance):1.7776094675064087, Loss2:0.0\n",
            "Iters: [1000/1000]\tLoss: 2.107180595397949,Loss1(L2 distance):1.6447559595108032, Loss2:0.4624245762825012\n",
            "------------Start 6 search, current c is 0.4375------------\n",
            "Iters: [200/1000]\tLoss: 2.407320737838745,Loss1(L2 distance):2.407320737838745, Loss2:0.0\n",
            "Iters: [400/1000]\tLoss: 2.327714681625366,Loss1(L2 distance):2.327714681625366, Loss2:0.0\n",
            "Iters: [600/1000]\tLoss: 2.624166250228882,Loss1(L2 distance):1.8729866743087769, Loss2:0.751179575920105\n",
            "success when loss: 1.8454302549362183, pred: 2\n",
            "Iters: [800/1000]\tLoss: 1.8306465148925781,Loss1(L2 distance):1.8306465148925781, Loss2:0.0\n",
            "Iters: [1000/1000]\tLoss: 1.799056887626648,Loss1(L2 distance):1.799056887626648, Loss2:0.0\n",
            "------------Start 7 search, current c is 0.38125------------\n",
            "Iters: [200/1000]\tLoss: 5.532064437866211,Loss1(L2 distance):2.384549379348755, Loss2:3.147515058517456\n",
            "Iters: [400/1000]\tLoss: 2.182673931121826,Loss1(L2 distance):2.182673931121826, Loss2:0.0\n",
            "Iters: [600/1000]\tLoss: 1.7775593996047974,Loss1(L2 distance):1.7775593996047974, Loss2:0.0\n",
            "Iters: [800/1000]\tLoss: 1.7435007095336914,Loss1(L2 distance):1.7435007095336914, Loss2:0.0\n",
            "success when loss: 1.7793055772781372, pred: 2\n",
            "Iters: [1000/1000]\tLoss: 3.014341115951538,Loss1(L2 distance):1.789095401763916, Loss2:1.225245714187622\n",
            "------------Start 8 search, current c is 0.353125------------\n",
            "Iters: [200/1000]\tLoss: 2.426940679550171,Loss1(L2 distance):2.426940679550171, Loss2:0.0\n",
            "Iters: [400/1000]\tLoss: 2.285088539123535,Loss1(L2 distance):2.285088539123535, Loss2:0.0\n",
            "Iters: [600/1000]\tLoss: 1.8613852262496948,Loss1(L2 distance):1.8613852262496948, Loss2:0.0\n",
            "Iters: [800/1000]\tLoss: 1.7664566040039062,Loss1(L2 distance):1.7664566040039062, Loss2:0.0\n",
            "Iters: [1000/1000]\tLoss: 1.7234759330749512,Loss1(L2 distance):1.7234759330749512, Loss2:0.0\n"
          ]
        }
      ],
      "source": [
        "victim_img2,victim_label2=test_data[5652]\n",
        "print(\"Correct Label is \",victim_label2)\n",
        "\n",
        "victim_img_input2 = torch.unsqueeze(victim_img2, 0)\n",
        "attack_untarget_img = cwattack_l2(victim_img_input2,target_model,victim_label2,\n",
        "                         iteration=1000,lr=0.01)"
      ]
    },
    {
      "cell_type": "markdown",
      "metadata": {
        "id": "syVitpMoexhm"
      },
      "source": [
        "### 无目标的随机攻击准确率相对较低（87%）可能来自于几个方面：\n",
        "#### 1. 有目标攻击时，模型将集中收敛在一个特定区域，无目标攻击当识别结果不准确即判定成功，存在一定误差\n",
        "#### 2. MNIST模型使用了dropout层，增强了原模型的鲁棒性\n",
        "#### 3. MNIST数据集使用的是28 * 28像素图片，数据量较小，换为物体识别例如ImageNet会更好\n",
        "#### 4. 测试训练环境为GTX 1650S，可以考虑提高迭代次数，降低学习率，提高判断成功的连续攻击次数"
      ]
    },
    {
      "cell_type": "markdown",
      "source": [
        "### Untargeted random attacks The relatively low accuracy rate (87%) may come from several sources:\n",
        "#### 1. When there is a target attack, the model will converge in a specific area. If there is no target attack, the recognition result is inaccurate, and the judgment is successful, there is a certain error\n",
        "#### 2. The MNIST model uses the dropout layer, which enhances the robustness of the original model\n",
        "#### 3. The MNIST data set uses 28*28 pixel pictures, the amount of data is small, and it will be better to replace it with ImageNet and other object recognition effects\n",
        "#### 4. The test and training environment is GTX 1650S, you can consider increasing the number of iterations, reducing the learning rate, and increasing the number of consecutive attacks to judge success"
      ],
      "metadata": {
        "id": "2h3atrCji364"
      }
    },
    {
      "cell_type": "code",
      "source": [
        "show3(victim_img2,attack_untarget_img)"
      ],
      "metadata": {
        "colab": {
          "base_uri": "https://localhost:8080/",
          "height": 283
        },
        "id": "fykQV3vwhWEi",
        "outputId": "635883c3-cb40-472d-ef32-1cce16b22dba"
      },
      "execution_count": 14,
      "outputs": [
        {
          "output_type": "stream",
          "name": "stderr",
          "text": [
            "<ipython-input-9-0654f5ace7fd>:10: UserWarning: To copy construct from a tensor, it is recommended to use sourceTensor.clone().detach() or sourceTensor.clone().detach().requires_grad_(True), rather than torch.tensor(sourceTensor).\n",
            "  img2 =torch.tensor(adv).cpu()\n"
          ]
        },
        {
          "output_type": "display_data",
          "data": {
            "text/plain": [
              "<Figure size 640x480 with 3 Axes>"
            ],
            "image/png": "[encoded data removed]"
          },
          "metadata": {}
        }
      ]
    },
    {
      "cell_type": "code",
      "source": [
        "target_model.eval()\n",
        "output = target_model(attack_untarget_img)\n",
        "print(\"The pred result is \",output.argmax(1, keepdim=True).item())"
      ],
      "metadata": {
        "colab": {
          "base_uri": "https://localhost:8080/"
        },
        "id": "ZoKN4GS2h05F",
        "outputId": "d6c41043-dc64-482e-bb32-a0ae5a8c7a56"
      },
      "execution_count": 15,
      "outputs": [
        {
          "output_type": "stream",
          "name": "stdout",
          "text": [
            "The pred result is  2\n"
          ]
        }
      ]
    },
    {
      "cell_type": "markdown",
      "source": [
        "### Repeat 30 times (93.33% that the target model will predict the adversarial instance as a class which is not the '0' class!!!)"
      ],
      "metadata": {
        "id": "Kl88szl2h_VF"
      }
    },
    {
      "cell_type": "code",
      "execution_count": 16,
      "metadata": {
        "ExecuteTime": {
          "end_time": "2020-08-16T15:53:03.099887Z",
          "start_time": "2020-08-16T15:52:57.407887Z"
        },
        "colab": {
          "base_uri": "https://localhost:8080/"
        },
        "id": "CEvh4rtSexhm",
        "outputId": "de46ec86-a0a6-4e44-cbbe-c64b13c81dbe"
      },
      "outputs": [
        {
          "output_type": "stream",
          "name": "stderr",
          "text": [
            "100%|██████████| 30/30 [00:00<00:00, 879.15it/s]"
          ]
        },
        {
          "output_type": "stream",
          "name": "stdout",
          "text": [
            "accuracy : 0.9333333333333333\n"
          ]
        },
        {
          "output_type": "stream",
          "name": "stderr",
          "text": [
            "\n"
          ]
        }
      ],
      "source": [
        "sum_accuracy=0\n",
        "\n",
        "for i in tqdm(range(30)):\n",
        "    output = target_model(attack_untarget_img)\n",
        "    if(output.argmax(1, keepdim=True).item()!=0):\n",
        "        sum_accuracy+=1\n",
        "print(\"accuracy :\",sum_accuracy*1.0/30)\n"
      ]
    }
  ],
  "metadata": {
    "kernelspec": {
      "display_name": "Python 3",
      "name": "python3"
    },
    "language_info": {
      "codemirror_mode": {
        "name": "ipython",
        "version": 3
      },
      "file_extension": ".py",
      "mimetype": "text/x-python",
      "name": "python",
      "nbconvert_exporter": "python",
      "pygments_lexer": "ipython3",
      "version": "3.7.6"
    },
    "varInspector": {
      "cols": {
        "lenName": 16,
        "lenType": 16,
        "lenVar": 40
      },
      "kernels_config": {
        "python": {
          "delete_cmd_postfix": "",
          "delete_cmd_prefix": "del ",
          "library": "var_list.py",
          "varRefreshCmd": "print(var_dic_list())"
        },
        "r": {
          "delete_cmd_postfix": ") ",
          "delete_cmd_prefix": "rm(",
          "library": "var_list.r",
          "varRefreshCmd": "cat(var_dic_list()) "
        }
      },
      "types_to_exclude": [
        "module",
        "function",
        "builtin_function_or_method",
        "instance",
        "_Feature"
      ],
      "window_display": false
    },
    "colab": {
      "provenance": [],
      "toc_visible": true,
      "gpuType": "T4",
      "include_colab_link": true
    },
    "accelerator": "GPU"
  },
  "nbformat": 4,
  "nbformat_minor": 0
}